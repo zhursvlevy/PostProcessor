{
 "cells": [
  {
   "cell_type": "code",
   "execution_count": 2,
   "metadata": {},
   "outputs": [],
   "source": [
    "import pyarrow.parquet as pq\n",
    "import pandas as pd\n",
    "import numpy as np"
   ]
  },
  {
   "cell_type": "code",
   "execution_count": 3,
   "metadata": {},
   "outputs": [],
   "source": [
    "train_data = pq.read_table(source='D:/mashob/data/train.parquet').to_pandas()\n",
    "val_data = pq.read_table(source='D:/mashob/data/val.parquet').to_pandas()\n",
    "test_data = pq.read_table(source='D:/mashob/data/test.parquet').to_pandas()"
   ]
  },
  {
   "cell_type": "code",
   "execution_count": 4,
   "metadata": {},
   "outputs": [
    {
     "data": {
      "text/html": [
       "<div>\n",
       "<style scoped>\n",
       "    .dataframe tbody tr th:only-of-type {\n",
       "        vertical-align: middle;\n",
       "    }\n",
       "\n",
       "    .dataframe tbody tr th {\n",
       "        vertical-align: top;\n",
       "    }\n",
       "\n",
       "    .dataframe thead th {\n",
       "        text-align: right;\n",
       "    }\n",
       "</style>\n",
       "<table border=\"1\" class=\"dataframe\">\n",
       "  <thead>\n",
       "    <tr style=\"text-align: right;\">\n",
       "      <th></th>\n",
       "      <th>text_markdown</th>\n",
       "      <th>embedding</th>\n",
       "      <th>wilson_score</th>\n",
       "    </tr>\n",
       "  </thead>\n",
       "  <tbody>\n",
       "    <tr>\n",
       "      <th>0</th>\n",
       "      <td>Знаете, когда тебе в лицо суют что-то с криком...</td>\n",
       "      <td>[0.56629515, 0.03759489, -0.25796056, -0.03476...</td>\n",
       "      <td>0.437376</td>\n",
       "    </tr>\n",
       "    <tr>\n",
       "      <th>1</th>\n",
       "      <td>Как на самом деле стало в Крыму с приходом Рос...</td>\n",
       "      <td>[1.014961, -0.7582568, -0.18253209, 0.3129007,...</td>\n",
       "      <td>0.309303</td>\n",
       "    </tr>\n",
       "  </tbody>\n",
       "</table>\n",
       "</div>"
      ],
      "text/plain": [
       "                                       text_markdown  \\\n",
       "0  Знаете, когда тебе в лицо суют что-то с криком...   \n",
       "1  Как на самом деле стало в Крыму с приходом Рос...   \n",
       "\n",
       "                                           embedding  wilson_score  \n",
       "0  [0.56629515, 0.03759489, -0.25796056, -0.03476...      0.437376  \n",
       "1  [1.014961, -0.7582568, -0.18253209, 0.3129007,...      0.309303  "
      ]
     },
     "execution_count": 4,
     "metadata": {},
     "output_type": "execute_result"
    }
   ],
   "source": [
    "train_data.head(2)"
   ]
  },
  {
   "cell_type": "code",
   "execution_count": 5,
   "metadata": {},
   "outputs": [],
   "source": [
    "def create_matrix_embedding(df: pd.DataFrame):\n",
    "    embedding = np.empty((df.shape[0], df.embedding[0].shape[0]))\n",
    "    for i in range(df.shape[0]):\n",
    "        embedding[i] = df.embedding[i].reshape((-1, df.embedding[0].shape[0]))\n",
    "    return np.vstack(embedding)"
   ]
  },
  {
   "cell_type": "code",
   "execution_count": 6,
   "metadata": {},
   "outputs": [],
   "source": [
    "X_train = create_matrix_embedding(train_data)\n",
    "X_val = create_matrix_embedding(val_data)\n",
    "X_test = create_matrix_embedding(test_data)"
   ]
  },
  {
   "cell_type": "code",
   "execution_count": 7,
   "metadata": {},
   "outputs": [],
   "source": [
    "y_train = train_data.wilson_score.values\n",
    "y_val = val_data.wilson_score.values\n",
    "y_test = test_data.wilson_score.values"
   ]
  },
  {
   "cell_type": "markdown",
   "metadata": {},
   "source": [
    "## CatBoost"
   ]
  },
  {
   "cell_type": "code",
   "execution_count": 8,
   "metadata": {},
   "outputs": [],
   "source": [
    "from catboost import CatBoostRegressor\n",
    "from sklearn.metrics import mean_squared_error as MSE, r2_score "
   ]
  },
  {
   "cell_type": "code",
   "execution_count": 9,
   "metadata": {},
   "outputs": [
    {
     "name": "stdout",
     "output_type": "stream",
     "text": [
      "0:\tlearn: 0.2473339\ttest: 0.2443510\tbest: 0.2443510 (0)\ttotal: 246ms\tremaining: 6m 8s\n",
      "100:\tlearn: 0.2270892\ttest: 0.2297114\tbest: 0.2297114 (100)\ttotal: 8.56s\tremaining: 1m 58s\n",
      "200:\tlearn: 0.2223822\ttest: 0.2285599\tbest: 0.2285551 (196)\ttotal: 19.6s\tremaining: 2m 6s\n",
      "300:\tlearn: 0.2175624\ttest: 0.2280446\tbest: 0.2280446 (300)\ttotal: 32.8s\tremaining: 2m 10s\n",
      "400:\tlearn: 0.2132408\ttest: 0.2276521\tbest: 0.2276521 (400)\ttotal: 41.9s\tremaining: 1m 54s\n",
      "500:\tlearn: 0.2092716\ttest: 0.2273501\tbest: 0.2273161 (474)\ttotal: 50.4s\tremaining: 1m 40s\n",
      "600:\tlearn: 0.2055920\ttest: 0.2272526\tbest: 0.2272167 (551)\ttotal: 58.9s\tremaining: 1m 28s\n",
      "700:\tlearn: 0.2020240\ttest: 0.2271417\tbest: 0.2271202 (686)\ttotal: 1m 7s\tremaining: 1m 16s\n",
      "800:\tlearn: 0.1986631\ttest: 0.2269732\tbest: 0.2269607 (783)\ttotal: 1m 15s\tremaining: 1m 6s\n",
      "900:\tlearn: 0.1954262\ttest: 0.2269077\tbest: 0.2268569 (866)\ttotal: 1m 24s\tremaining: 56.2s\n",
      "1000:\tlearn: 0.1924189\ttest: 0.2268091\tbest: 0.2267732 (944)\ttotal: 1m 32s\tremaining: 46.3s\n",
      "1100:\tlearn: 0.1893470\ttest: 0.2268206\tbest: 0.2267732 (944)\ttotal: 1m 41s\tremaining: 36.7s\n",
      "1200:\tlearn: 0.1864126\ttest: 0.2268421\tbest: 0.2266983 (1137)\ttotal: 1m 48s\tremaining: 27s\n",
      "1300:\tlearn: 0.1834844\ttest: 0.2267689\tbest: 0.2266983 (1137)\ttotal: 1m 55s\tremaining: 17.7s\n",
      "1400:\tlearn: 0.1806450\ttest: 0.2265994\tbest: 0.2265922 (1395)\ttotal: 2m 2s\tremaining: 8.68s\n",
      "1499:\tlearn: 0.1779686\ttest: 0.2266545\tbest: 0.2265640 (1424)\ttotal: 2m 9s\tremaining: 0us\n",
      "\n",
      "bestTest = 0.2265640377\n",
      "bestIteration = 1424\n",
      "\n",
      "Shrink model to first 1425 iterations.\n"
     ]
    },
    {
     "data": {
      "text/plain": [
       "<catboost.core.CatBoostRegressor at 0x1f847032380>"
      ]
     },
     "execution_count": 9,
     "metadata": {},
     "output_type": "execute_result"
    }
   ],
   "source": [
    "catboost_model = CatBoostRegressor(iterations=1500,\n",
    "                          learning_rate=0.07,\n",
    "                          depth=6,\n",
    "                          random_state=42)\n",
    "\n",
    "catboost_model.fit(X_train, y_train, eval_set=(X_val, y_val), verbose=100)"
   ]
  },
  {
   "cell_type": "code",
   "execution_count": 10,
   "metadata": {},
   "outputs": [
    {
     "name": "stdout",
     "output_type": "stream",
     "text": [
      "RMSE: 0.23\n",
      "R^2:  0.165266540701002\n"
     ]
    }
   ],
   "source": [
    "y_pred = catboost_model.predict(X_test)\n",
    "rmse = MSE(y_test, y_pred)**0.5\n",
    "print(\"RMSE: %.2f\" % rmse)\n",
    "r2_cat_boost_bert = r2_score(y_test,y_pred)\n",
    "print(\"R^2: \", r2_cat_boost_bert)"
   ]
  },
  {
   "cell_type": "markdown",
   "metadata": {},
   "source": [
    "## GradientBoosting"
   ]
  },
  {
   "cell_type": "code",
   "execution_count": 11,
   "metadata": {},
   "outputs": [],
   "source": [
    "from sklearn.ensemble import GradientBoostingRegressor"
   ]
  },
  {
   "cell_type": "code",
   "execution_count": 13,
   "metadata": {},
   "outputs": [],
   "source": [
    "X = np.concatenate((X_train, X_val))\n",
    "y = np.concatenate((y_train, y_val))"
   ]
  },
  {
   "cell_type": "code",
   "execution_count": 25,
   "metadata": {},
   "outputs": [],
   "source": [
    "params = {'n_estimators':500,\n",
    "          'max_depth':6,\n",
    "          'criterion':'friedman_mse',\n",
    "          'learning_rate':0.03,\n",
    "          'min_samples_leaf':32,\n",
    "          'min_samples_split':32,\n",
    "          'random_state':42,\n",
    "          }"
   ]
  },
  {
   "cell_type": "code",
   "execution_count": 26,
   "metadata": {},
   "outputs": [
    {
     "data": {
      "text/html": [
       "<style>#sk-container-id-4 {color: black;}#sk-container-id-4 pre{padding: 0;}#sk-container-id-4 div.sk-toggleable {background-color: white;}#sk-container-id-4 label.sk-toggleable__label {cursor: pointer;display: block;width: 100%;margin-bottom: 0;padding: 0.3em;box-sizing: border-box;text-align: center;}#sk-container-id-4 label.sk-toggleable__label-arrow:before {content: \"▸\";float: left;margin-right: 0.25em;color: #696969;}#sk-container-id-4 label.sk-toggleable__label-arrow:hover:before {color: black;}#sk-container-id-4 div.sk-estimator:hover label.sk-toggleable__label-arrow:before {color: black;}#sk-container-id-4 div.sk-toggleable__content {max-height: 0;max-width: 0;overflow: hidden;text-align: left;background-color: #f0f8ff;}#sk-container-id-4 div.sk-toggleable__content pre {margin: 0.2em;color: black;border-radius: 0.25em;background-color: #f0f8ff;}#sk-container-id-4 input.sk-toggleable__control:checked~div.sk-toggleable__content {max-height: 200px;max-width: 100%;overflow: auto;}#sk-container-id-4 input.sk-toggleable__control:checked~label.sk-toggleable__label-arrow:before {content: \"▾\";}#sk-container-id-4 div.sk-estimator input.sk-toggleable__control:checked~label.sk-toggleable__label {background-color: #d4ebff;}#sk-container-id-4 div.sk-label input.sk-toggleable__control:checked~label.sk-toggleable__label {background-color: #d4ebff;}#sk-container-id-4 input.sk-hidden--visually {border: 0;clip: rect(1px 1px 1px 1px);clip: rect(1px, 1px, 1px, 1px);height: 1px;margin: -1px;overflow: hidden;padding: 0;position: absolute;width: 1px;}#sk-container-id-4 div.sk-estimator {font-family: monospace;background-color: #f0f8ff;border: 1px dotted black;border-radius: 0.25em;box-sizing: border-box;margin-bottom: 0.5em;}#sk-container-id-4 div.sk-estimator:hover {background-color: #d4ebff;}#sk-container-id-4 div.sk-parallel-item::after {content: \"\";width: 100%;border-bottom: 1px solid gray;flex-grow: 1;}#sk-container-id-4 div.sk-label:hover label.sk-toggleable__label {background-color: #d4ebff;}#sk-container-id-4 div.sk-serial::before {content: \"\";position: absolute;border-left: 1px solid gray;box-sizing: border-box;top: 0;bottom: 0;left: 50%;z-index: 0;}#sk-container-id-4 div.sk-serial {display: flex;flex-direction: column;align-items: center;background-color: white;padding-right: 0.2em;padding-left: 0.2em;position: relative;}#sk-container-id-4 div.sk-item {position: relative;z-index: 1;}#sk-container-id-4 div.sk-parallel {display: flex;align-items: stretch;justify-content: center;background-color: white;position: relative;}#sk-container-id-4 div.sk-item::before, #sk-container-id-4 div.sk-parallel-item::before {content: \"\";position: absolute;border-left: 1px solid gray;box-sizing: border-box;top: 0;bottom: 0;left: 50%;z-index: -1;}#sk-container-id-4 div.sk-parallel-item {display: flex;flex-direction: column;z-index: 1;position: relative;background-color: white;}#sk-container-id-4 div.sk-parallel-item:first-child::after {align-self: flex-end;width: 50%;}#sk-container-id-4 div.sk-parallel-item:last-child::after {align-self: flex-start;width: 50%;}#sk-container-id-4 div.sk-parallel-item:only-child::after {width: 0;}#sk-container-id-4 div.sk-dashed-wrapped {border: 1px dashed gray;margin: 0 0.4em 0.5em 0.4em;box-sizing: border-box;padding-bottom: 0.4em;background-color: white;}#sk-container-id-4 div.sk-label label {font-family: monospace;font-weight: bold;display: inline-block;line-height: 1.2em;}#sk-container-id-4 div.sk-label-container {text-align: center;}#sk-container-id-4 div.sk-container {/* jupyter's `normalize.less` sets `[hidden] { display: none; }` but bootstrap.min.css set `[hidden] { display: none !important; }` so we also need the `!important` here to be able to override the default hidden behavior on the sphinx rendered scikit-learn.org. See: https://github.com/scikit-learn/scikit-learn/issues/21755 */display: inline-block !important;position: relative;}#sk-container-id-4 div.sk-text-repr-fallback {display: none;}</style><div id=\"sk-container-id-4\" class=\"sk-top-container\"><div class=\"sk-text-repr-fallback\"><pre>GradientBoostingRegressor(learning_rate=0.03, max_depth=6, min_samples_leaf=32,\n",
       "                          min_samples_split=32, n_estimators=500,\n",
       "                          random_state=42)</pre><b>In a Jupyter environment, please rerun this cell to show the HTML representation or trust the notebook. <br />On GitHub, the HTML representation is unable to render, please try loading this page with nbviewer.org.</b></div><div class=\"sk-container\" hidden><div class=\"sk-item\"><div class=\"sk-estimator sk-toggleable\"><input class=\"sk-toggleable__control sk-hidden--visually\" id=\"sk-estimator-id-4\" type=\"checkbox\" checked><label for=\"sk-estimator-id-4\" class=\"sk-toggleable__label sk-toggleable__label-arrow\">GradientBoostingRegressor</label><div class=\"sk-toggleable__content\"><pre>GradientBoostingRegressor(learning_rate=0.03, max_depth=6, min_samples_leaf=32,\n",
       "                          min_samples_split=32, n_estimators=500,\n",
       "                          random_state=42)</pre></div></div></div></div></div>"
      ],
      "text/plain": [
       "GradientBoostingRegressor(learning_rate=0.03, max_depth=6, min_samples_leaf=32,\n",
       "                          min_samples_split=32, n_estimators=500,\n",
       "                          random_state=42)"
      ]
     },
     "execution_count": 26,
     "metadata": {},
     "output_type": "execute_result"
    }
   ],
   "source": [
    "gbr = GradientBoostingRegressor(**params)\n",
    "gbr.fit(X, y)"
   ]
  },
  {
   "cell_type": "code",
   "execution_count": 27,
   "metadata": {},
   "outputs": [
    {
     "name": "stdout",
     "output_type": "stream",
     "text": [
      "RMSE: 0.23\n",
      "R^2:  0.16385889747928917\n"
     ]
    }
   ],
   "source": [
    "y_pred = gbr.predict(X_test)\n",
    "rmse = MSE(y_test,y_pred)**0.5\n",
    "print(\"RMSE: %.2f\" % rmse)\n",
    "r2_grad_boost_bert = gbr.score(X_test, y_test)\n",
    "print(\"R^2: \", r2_grad_boost_bert)"
   ]
  },
  {
   "cell_type": "markdown",
   "metadata": {},
   "source": [
    "# R^2"
   ]
  },
  {
   "cell_type": "code",
   "execution_count": 28,
   "metadata": {},
   "outputs": [
    {
     "name": "stdout",
     "output_type": "stream",
     "text": [
      "                        GradientBoosting  CatBoost\n",
      "with bert`s embeddings          0.163859  0.165267\n"
     ]
    }
   ],
   "source": [
    "index = ['with bert`s embeddings']\n",
    "data_table = {'GradientBoosting': [r2_grad_boost_bert],\n",
    "              'CatBoost': [r2_cat_boost_bert]}\n",
    "\n",
    "df_r2 = pd.DataFrame(data_table, index=index)\n",
    "print(df_r2)"
   ]
  }
 ],
 "metadata": {
  "kernelspec": {
   "display_name": "env-mashu",
   "language": "python",
   "name": "python3"
  },
  "language_info": {
   "codemirror_mode": {
    "name": "ipython",
    "version": 3
   },
   "file_extension": ".py",
   "mimetype": "text/x-python",
   "name": "python",
   "nbconvert_exporter": "python",
   "pygments_lexer": "ipython3",
   "version": "3.10.13"
  }
 },
 "nbformat": 4,
 "nbformat_minor": 2
}
