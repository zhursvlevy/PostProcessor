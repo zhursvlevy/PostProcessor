{
 "cells": [
  {
   "cell_type": "code",
   "execution_count": 84,
   "metadata": {},
   "outputs": [],
   "source": [
    "import re\n",
    "import json\n",
    "import yaml\n",
    "import numpy as np\n",
    "import pandas as pd\n",
    "import pyarrow.parquet as pq\n",
    "from gensim.models import Word2Vec\n",
    "from collections import defaultdict\n",
    "from catboost import CatBoostRegressor, Pool\n",
    "from sklearn.feature_extraction.text import TfidfVectorizer\n",
    "from sklearn.metrics import mean_squared_error as MSE, r2_score "
   ]
  },
  {
   "cell_type": "code",
   "execution_count": 85,
   "metadata": {},
   "outputs": [],
   "source": [
    "df = pq.read_table(source='D:/mashob/data/lemmatized_texts.parquet').to_pandas()"
   ]
  },
  {
   "cell_type": "code",
   "execution_count": 86,
   "metadata": {},
   "outputs": [
    {
     "data": {
      "text/html": [
       "<div>\n",
       "<style scoped>\n",
       "    .dataframe tbody tr th:only-of-type {\n",
       "        vertical-align: middle;\n",
       "    }\n",
       "\n",
       "    .dataframe tbody tr th {\n",
       "        vertical-align: top;\n",
       "    }\n",
       "\n",
       "    .dataframe thead th {\n",
       "        text-align: right;\n",
       "    }\n",
       "</style>\n",
       "<table border=\"1\" class=\"dataframe\">\n",
       "  <thead>\n",
       "    <tr style=\"text-align: right;\">\n",
       "      <th></th>\n",
       "      <th>id</th>\n",
       "      <th>title</th>\n",
       "      <th>text_markdown</th>\n",
       "      <th>timestamp</th>\n",
       "      <th>author_id</th>\n",
       "      <th>username</th>\n",
       "      <th>rating</th>\n",
       "      <th>pluses</th>\n",
       "      <th>minuses</th>\n",
       "      <th>url</th>\n",
       "      <th>tags</th>\n",
       "    </tr>\n",
       "  </thead>\n",
       "  <tbody>\n",
       "    <tr>\n",
       "      <th>7</th>\n",
       "      <td>2936217</td>\n",
       "      <td>рассада</td>\n",
       "      <td>аня волос нос расти петя аня мочь жопа рассада...</td>\n",
       "      <td>1419527068</td>\n",
       "      <td>453525</td>\n",
       "      <td>Misochkin</td>\n",
       "      <td>-9</td>\n",
       "      <td>5</td>\n",
       "      <td>14</td>\n",
       "      <td>https://pikabu.ru/story/rassada_2936217</td>\n",
       "      <td>[Петр, Анна, Рассада, Волосы, Текст, Переписка...</td>\n",
       "    </tr>\n",
       "    <tr>\n",
       "      <th>11</th>\n",
       "      <td>6991412</td>\n",
       "      <td>начальник обед</td>\n",
       "      <td>недавно родственница жаловаться дурдом работа ...</td>\n",
       "      <td>1571215335</td>\n",
       "      <td>1699826</td>\n",
       "      <td>FluffyMagpie</td>\n",
       "      <td>641</td>\n",
       "      <td>681</td>\n",
       "      <td>40</td>\n",
       "      <td>https://pikabu.ru/story/pro_nachalnikov_i_obed...</td>\n",
       "      <td>[Начальник, Руководитель, Обед, Еда, Сотрудник...</td>\n",
       "    </tr>\n",
       "    <tr>\n",
       "      <th>15</th>\n",
       "      <td>6991359</td>\n",
       "      <td>помогать пожалуйста поиск игра</td>\n",
       "      <td>добрый время сутки господин дама подсказывать ...</td>\n",
       "      <td>1571214218</td>\n",
       "      <td>878346</td>\n",
       "      <td>Keeeesha</td>\n",
       "      <td>-8</td>\n",
       "      <td>2</td>\n",
       "      <td>10</td>\n",
       "      <td>https://pikabu.ru/story/pomogite_pozhaluysta_p...</td>\n",
       "      <td>[Игры, Мобильное приложение, Гонки, Без рейтин...</td>\n",
       "    </tr>\n",
       "  </tbody>\n",
       "</table>\n",
       "</div>"
      ],
      "text/plain": [
       "         id                           title  \\\n",
       "7   2936217                         рассада   \n",
       "11  6991412                  начальник обед   \n",
       "15  6991359  помогать пожалуйста поиск игра   \n",
       "\n",
       "                                        text_markdown   timestamp  author_id  \\\n",
       "7   аня волос нос расти петя аня мочь жопа рассада...  1419527068     453525   \n",
       "11  недавно родственница жаловаться дурдом работа ...  1571215335    1699826   \n",
       "15  добрый время сутки господин дама подсказывать ...  1571214218     878346   \n",
       "\n",
       "        username  rating  pluses  minuses  \\\n",
       "7      Misochkin      -9       5       14   \n",
       "11  FluffyMagpie     641     681       40   \n",
       "15      Keeeesha      -8       2       10   \n",
       "\n",
       "                                                  url  \\\n",
       "7             https://pikabu.ru/story/rassada_2936217   \n",
       "11  https://pikabu.ru/story/pro_nachalnikov_i_obed...   \n",
       "15  https://pikabu.ru/story/pomogite_pozhaluysta_p...   \n",
       "\n",
       "                                                 tags  \n",
       "7   [Петр, Анна, Рассада, Волосы, Текст, Переписка...  \n",
       "11  [Начальник, Руководитель, Обед, Еда, Сотрудник...  \n",
       "15  [Игры, Мобильное приложение, Гонки, Без рейтин...  "
      ]
     },
     "execution_count": 86,
     "metadata": {},
     "output_type": "execute_result"
    }
   ],
   "source": [
    "df.head(3)"
   ]
  },
  {
   "cell_type": "markdown",
   "metadata": {},
   "source": [
    "## Create function for calculate wilson score for rating"
   ]
  },
  {
   "cell_type": "code",
   "execution_count": 87,
   "metadata": {},
   "outputs": [],
   "source": [
    "def wilson_score(pluses: int, minuses: int, eps: float = 1e-7) -> float:\n",
    "    n = pluses + minuses\n",
    "    if n == 0:\n",
    "        return 0\n",
    "    p = pluses / (n + eps)\n",
    "    return _wilson_score(p, n)\n",
    "\n",
    "def _wilson_score(p: int, n: int) -> float:\n",
    "    q = 1.96\n",
    "    return (p + q**2 / (2*n) - q*np.sqrt((p*(1 - p) + q**2/(4*n)) / n)) / (1 + q**2/n)"
   ]
  },
  {
   "cell_type": "code",
   "execution_count": 88,
   "metadata": {},
   "outputs": [],
   "source": [
    "df['rating'] = df.apply(lambda row: wilson_score(row['pluses'], row['minuses']), axis=1)"
   ]
  },
  {
   "cell_type": "code",
   "execution_count": 89,
   "metadata": {},
   "outputs": [],
   "source": [
    "with open('D:/mashob/data/indexes.json', 'r') as idx_file:   \n",
    "    idx_data = json.load(idx_file) "
   ]
  },
  {
   "cell_type": "markdown",
   "metadata": {},
   "source": [
    "## Read file with model`s configuration"
   ]
  },
  {
   "cell_type": "code",
   "execution_count": 276,
   "metadata": {},
   "outputs": [],
   "source": [
    "with open(\"D:/mashob/data/finally/configs/text.yaml\", \"r\") as f:\n",
    "    config_for_text_data = yaml.safe_load(f)\n",
    "\n",
    "with open(\"D:/mashob/data/finally/configs/embeddings.yaml\", \"r\") as f:\n",
    "    config_for_embedding_data = yaml.safe_load(f)\n",
    "\n",
    "with open(\"D:/mashob/data/finally/configs/rubert_embeddings.yaml\", \"r\") as f:\n",
    "    config_for_rubert_data = yaml.safe_load(f)\n",
    "\n",
    "with open(\"D:/mashob/data/finally/configs/rubert_tun_embeddings.yaml\", \"r\") as f:\n",
    "    config_for_rubert_tun_data = yaml.safe_load(f)"
   ]
  },
  {
   "cell_type": "code",
   "execution_count": 90,
   "metadata": {},
   "outputs": [],
   "source": [
    "train_indexes = idx_data['train']\n",
    "val_indexes = idx_data['val']\n",
    "test_indexes = idx_data['test']\n",
    "\n",
    "train_data = df[df['id'].isin(train_indexes)]\n",
    "val_data = df[df['id'].isin(val_indexes)]\n",
    "test_data = df[df['id'].isin(test_indexes)]"
   ]
  },
  {
   "cell_type": "code",
   "execution_count": 91,
   "metadata": {},
   "outputs": [
    {
     "data": {
      "text/plain": [
       "True"
      ]
     },
     "execution_count": 91,
     "metadata": {},
     "output_type": "execute_result"
    }
   ],
   "source": [
    "len(train_data) + len(val_data) + len(test_data) == len(df)"
   ]
  },
  {
   "cell_type": "code",
   "execution_count": 92,
   "metadata": {},
   "outputs": [],
   "source": [
    "X_train_text = train_data.text_markdown.values\n",
    "X_val_text = val_data.text_markdown.values\n",
    "X_test_text = test_data.text_markdown.values\n",
    "y_train = train_data.rating.values\n",
    "y_val = val_data.rating.values\n",
    "y_test = test_data.rating.values"
   ]
  },
  {
   "cell_type": "markdown",
   "metadata": {},
   "source": [
    "## Catboost on a text features"
   ]
  },
  {
   "cell_type": "code",
   "execution_count": 168,
   "metadata": {},
   "outputs": [],
   "source": [
    "def calc_metrics(model, X, Y):\n",
    "    y_pred = model.predict(X)\n",
    "    rmse = MSE(Y, y_pred)**0.5\n",
    "    r2 = r2_score(Y, y_pred)\n",
    "    print(\"RMSE: %.7f\" % rmse)\n",
    "    print(\"R^2: %.7f\" % r2)\n",
    "    return rmse, r2"
   ]
  },
  {
   "cell_type": "code",
   "execution_count": 156,
   "metadata": {},
   "outputs": [],
   "source": [
    "catboost_model = CatBoostRegressor(iterations=30000,\n",
    "                          learning_rate=0.03,\n",
    "                          random_state=42,\n",
    "                          depth=4,\n",
    "                          bootstrap_type='Bayesian',\n",
    "                          bagging_temperature=10,\n",
    "                          l2_leaf_reg=14)"
   ]
  },
  {
   "cell_type": "code",
   "execution_count": 157,
   "metadata": {},
   "outputs": [
    {
     "name": "stdout",
     "output_type": "stream",
     "text": [
      "0:\tlearn: 0.2664447\ttest: 0.2706870\tbest: 0.2706870 (0)\ttotal: 46.2ms\tremaining: 23m 4s\n",
      "100:\tlearn: 0.2536942\ttest: 0.2592273\tbest: 0.2592273 (100)\ttotal: 4.83s\tremaining: 23m 49s\n",
      "200:\tlearn: 0.2508607\ttest: 0.2568988\tbest: 0.2568988 (200)\ttotal: 9.45s\tremaining: 23m 21s\n",
      "300:\tlearn: 0.2490778\ttest: 0.2553210\tbest: 0.2553210 (300)\ttotal: 14.1s\tremaining: 23m 11s\n",
      "400:\tlearn: 0.2476774\ttest: 0.2540544\tbest: 0.2540544 (400)\ttotal: 18.8s\tremaining: 23m 9s\n",
      "500:\tlearn: 0.2465739\ttest: 0.2531460\tbest: 0.2531460 (500)\ttotal: 23.5s\tremaining: 23m 5s\n",
      "600:\tlearn: 0.2457023\ttest: 0.2523834\tbest: 0.2523834 (600)\ttotal: 28.4s\tremaining: 23m 6s\n",
      "700:\tlearn: 0.2448567\ttest: 0.2516633\tbest: 0.2516633 (700)\ttotal: 33.1s\tremaining: 23m 1s\n",
      "800:\tlearn: 0.2441148\ttest: 0.2509719\tbest: 0.2509719 (800)\ttotal: 37.8s\tremaining: 22m 58s\n",
      "900:\tlearn: 0.2434770\ttest: 0.2504444\tbest: 0.2504444 (900)\ttotal: 42.5s\tremaining: 22m 51s\n",
      "1000:\tlearn: 0.2428766\ttest: 0.2499523\tbest: 0.2499523 (1000)\ttotal: 47.3s\tremaining: 22m 49s\n",
      "1100:\tlearn: 0.2423149\ttest: 0.2494822\tbest: 0.2494822 (1100)\ttotal: 52.1s\tremaining: 22m 46s\n",
      "1200:\tlearn: 0.2418282\ttest: 0.2490692\tbest: 0.2490692 (1200)\ttotal: 57.1s\tremaining: 22m 48s\n",
      "1300:\tlearn: 0.2414120\ttest: 0.2487434\tbest: 0.2487434 (1300)\ttotal: 1m 2s\tremaining: 22m 55s\n",
      "1400:\tlearn: 0.2409914\ttest: 0.2484130\tbest: 0.2484130 (1400)\ttotal: 1m 7s\tremaining: 22m 53s\n",
      "1500:\tlearn: 0.2405862\ttest: 0.2481370\tbest: 0.2481363 (1499)\ttotal: 1m 12s\tremaining: 22m 54s\n",
      "1600:\tlearn: 0.2401950\ttest: 0.2478593\tbest: 0.2478593 (1600)\ttotal: 1m 17s\tremaining: 22m 55s\n",
      "1700:\tlearn: 0.2398201\ttest: 0.2475966\tbest: 0.2475966 (1700)\ttotal: 1m 22s\tremaining: 23m\n",
      "1800:\tlearn: 0.2394724\ttest: 0.2473874\tbest: 0.2473874 (1800)\ttotal: 1m 28s\tremaining: 22m 57s\n",
      "1900:\tlearn: 0.2391448\ttest: 0.2471885\tbest: 0.2471880 (1897)\ttotal: 1m 33s\tremaining: 22m 57s\n",
      "2000:\tlearn: 0.2388561\ttest: 0.2470159\tbest: 0.2470159 (2000)\ttotal: 1m 38s\tremaining: 22m 54s\n",
      "2100:\tlearn: 0.2385386\ttest: 0.2467967\tbest: 0.2467959 (2099)\ttotal: 1m 43s\tremaining: 22m 47s\n",
      "2200:\tlearn: 0.2382571\ttest: 0.2466245\tbest: 0.2466245 (2200)\ttotal: 1m 47s\tremaining: 22m 42s\n",
      "2300:\tlearn: 0.2379814\ttest: 0.2464559\tbest: 0.2464559 (2300)\ttotal: 1m 52s\tremaining: 22m 38s\n",
      "2400:\tlearn: 0.2376931\ttest: 0.2462784\tbest: 0.2462783 (2399)\ttotal: 1m 57s\tremaining: 22m 34s\n",
      "2500:\tlearn: 0.2374315\ttest: 0.2461523\tbest: 0.2461507 (2498)\ttotal: 2m 3s\tremaining: 22m 33s\n",
      "2600:\tlearn: 0.2371818\ttest: 0.2460129\tbest: 0.2460119 (2598)\ttotal: 2m 8s\tremaining: 22m 33s\n",
      "2700:\tlearn: 0.2369177\ttest: 0.2458718\tbest: 0.2458718 (2700)\ttotal: 2m 13s\tremaining: 22m 28s\n",
      "2800:\tlearn: 0.2366737\ttest: 0.2457328\tbest: 0.2457328 (2800)\ttotal: 2m 18s\tremaining: 22m 29s\n",
      "2900:\tlearn: 0.2364385\ttest: 0.2456030\tbest: 0.2456030 (2900)\ttotal: 2m 25s\tremaining: 22m 37s\n",
      "3000:\tlearn: 0.2362007\ttest: 0.2454893\tbest: 0.2454892 (2999)\ttotal: 2m 31s\tremaining: 22m 41s\n",
      "3100:\tlearn: 0.2359783\ttest: 0.2453696\tbest: 0.2453690 (3098)\ttotal: 2m 36s\tremaining: 22m 39s\n",
      "3200:\tlearn: 0.2357759\ttest: 0.2452615\tbest: 0.2452615 (3200)\ttotal: 2m 41s\tremaining: 22m 34s\n",
      "3300:\tlearn: 0.2355551\ttest: 0.2451523\tbest: 0.2451523 (3300)\ttotal: 2m 46s\tremaining: 22m 25s\n",
      "3400:\tlearn: 0.2353430\ttest: 0.2450477\tbest: 0.2450477 (3400)\ttotal: 2m 51s\tremaining: 22m 18s\n",
      "3500:\tlearn: 0.2351390\ttest: 0.2449296\tbest: 0.2449290 (3499)\ttotal: 2m 55s\tremaining: 22m 11s\n",
      "3600:\tlearn: 0.2349376\ttest: 0.2448527\tbest: 0.2448527 (3600)\ttotal: 3m\tremaining: 22m 6s\n",
      "3700:\tlearn: 0.2347252\ttest: 0.2447636\tbest: 0.2447603 (3699)\ttotal: 3m 6s\tremaining: 22m 4s\n",
      "3800:\tlearn: 0.2345340\ttest: 0.2446954\tbest: 0.2446954 (3800)\ttotal: 3m 11s\tremaining: 22m\n",
      "3900:\tlearn: 0.2343431\ttest: 0.2445966\tbest: 0.2445966 (3900)\ttotal: 3m 16s\tremaining: 21m 54s\n",
      "4000:\tlearn: 0.2341722\ttest: 0.2445247\tbest: 0.2445247 (4000)\ttotal: 3m 21s\tremaining: 21m 49s\n",
      "4100:\tlearn: 0.2340138\ttest: 0.2444782\tbest: 0.2444782 (4100)\ttotal: 3m 27s\tremaining: 21m 51s\n",
      "4200:\tlearn: 0.2338432\ttest: 0.2443985\tbest: 0.2443985 (4200)\ttotal: 3m 33s\tremaining: 21m 48s\n",
      "4300:\tlearn: 0.2336785\ttest: 0.2442998\tbest: 0.2442998 (4300)\ttotal: 3m 39s\tremaining: 21m 49s\n",
      "4400:\tlearn: 0.2335206\ttest: 0.2442373\tbest: 0.2442355 (4397)\ttotal: 3m 45s\tremaining: 21m 49s\n",
      "4500:\tlearn: 0.2333388\ttest: 0.2441760\tbest: 0.2441746 (4486)\ttotal: 3m 50s\tremaining: 21m 47s\n",
      "4600:\tlearn: 0.2331652\ttest: 0.2440828\tbest: 0.2440828 (4596)\ttotal: 3m 56s\tremaining: 21m 47s\n",
      "4700:\tlearn: 0.2330055\ttest: 0.2440030\tbest: 0.2440022 (4697)\ttotal: 4m 2s\tremaining: 21m 44s\n",
      "4800:\tlearn: 0.2328440\ttest: 0.2439758\tbest: 0.2439703 (4794)\ttotal: 4m 8s\tremaining: 21m 42s\n",
      "4900:\tlearn: 0.2326953\ttest: 0.2439108\tbest: 0.2439085 (4899)\ttotal: 4m 13s\tremaining: 21m 38s\n",
      "5000:\tlearn: 0.2325476\ttest: 0.2438648\tbest: 0.2438634 (4999)\ttotal: 4m 18s\tremaining: 21m 32s\n",
      "5100:\tlearn: 0.2323928\ttest: 0.2438251\tbest: 0.2438246 (5078)\ttotal: 4m 24s\tremaining: 21m 29s\n",
      "5200:\tlearn: 0.2322356\ttest: 0.2437658\tbest: 0.2437658 (5200)\ttotal: 4m 28s\tremaining: 21m 22s\n",
      "5300:\tlearn: 0.2320769\ttest: 0.2437178\tbest: 0.2437166 (5299)\ttotal: 4m 33s\tremaining: 21m 15s\n",
      "5400:\tlearn: 0.2319107\ttest: 0.2436889\tbest: 0.2436870 (5398)\ttotal: 4m 38s\tremaining: 21m 9s\n",
      "5500:\tlearn: 0.2317592\ttest: 0.2436250\tbest: 0.2436240 (5499)\ttotal: 4m 43s\tremaining: 21m 2s\n",
      "5600:\tlearn: 0.2316165\ttest: 0.2435838\tbest: 0.2435822 (5598)\ttotal: 4m 48s\tremaining: 20m 57s\n",
      "5700:\tlearn: 0.2314630\ttest: 0.2435385\tbest: 0.2435376 (5697)\ttotal: 4m 53s\tremaining: 20m 50s\n",
      "5800:\tlearn: 0.2313209\ttest: 0.2434819\tbest: 0.2434809 (5799)\ttotal: 4m 58s\tremaining: 20m 45s\n",
      "5900:\tlearn: 0.2311846\ttest: 0.2434174\tbest: 0.2434174 (5900)\ttotal: 5m 3s\tremaining: 20m 38s\n",
      "6000:\tlearn: 0.2310273\ttest: 0.2433435\tbest: 0.2433435 (6000)\ttotal: 5m 8s\tremaining: 20m 33s\n",
      "6100:\tlearn: 0.2308864\ttest: 0.2432973\tbest: 0.2432944 (6096)\ttotal: 5m 13s\tremaining: 20m 28s\n",
      "6200:\tlearn: 0.2307426\ttest: 0.2432700\tbest: 0.2432674 (6197)\ttotal: 5m 18s\tremaining: 20m 24s\n",
      "6300:\tlearn: 0.2306012\ttest: 0.2432495\tbest: 0.2432480 (6295)\ttotal: 5m 23s\tremaining: 20m 18s\n",
      "6400:\tlearn: 0.2304627\ttest: 0.2432232\tbest: 0.2432229 (6398)\ttotal: 5m 28s\tremaining: 20m 12s\n",
      "6500:\tlearn: 0.2303370\ttest: 0.2431787\tbest: 0.2431772 (6498)\ttotal: 5m 33s\tremaining: 20m 5s\n",
      "6600:\tlearn: 0.2302019\ttest: 0.2431603\tbest: 0.2431603 (6600)\ttotal: 5m 38s\tremaining: 19m 59s\n",
      "6700:\tlearn: 0.2300662\ttest: 0.2431030\tbest: 0.2431030 (6700)\ttotal: 5m 43s\tremaining: 19m 53s\n",
      "6800:\tlearn: 0.2299391\ttest: 0.2430553\tbest: 0.2430543 (6799)\ttotal: 5m 48s\tremaining: 19m 47s\n",
      "6900:\tlearn: 0.2298065\ttest: 0.2430205\tbest: 0.2430205 (6900)\ttotal: 5m 53s\tremaining: 19m 42s\n",
      "7000:\tlearn: 0.2296764\ttest: 0.2429938\tbest: 0.2429934 (6988)\ttotal: 5m 58s\tremaining: 19m 37s\n",
      "7100:\tlearn: 0.2295538\ttest: 0.2429540\tbest: 0.2429540 (7100)\ttotal: 6m 3s\tremaining: 19m 31s\n",
      "7200:\tlearn: 0.2294296\ttest: 0.2429204\tbest: 0.2429204 (7200)\ttotal: 6m 8s\tremaining: 19m 26s\n",
      "7300:\tlearn: 0.2293034\ttest: 0.2428823\tbest: 0.2428823 (7300)\ttotal: 6m 13s\tremaining: 19m 20s\n",
      "7400:\tlearn: 0.2291796\ttest: 0.2428657\tbest: 0.2428652 (7399)\ttotal: 6m 18s\tremaining: 19m 14s\n",
      "7500:\tlearn: 0.2290605\ttest: 0.2428455\tbest: 0.2428408 (7495)\ttotal: 6m 22s\tremaining: 19m 8s\n",
      "7600:\tlearn: 0.2289322\ttest: 0.2428037\tbest: 0.2428030 (7599)\ttotal: 6m 27s\tremaining: 19m 3s\n",
      "7700:\tlearn: 0.2288102\ttest: 0.2427847\tbest: 0.2427843 (7692)\ttotal: 6m 32s\tremaining: 18m 57s\n",
      "7800:\tlearn: 0.2286895\ttest: 0.2427540\tbest: 0.2427540 (7798)\ttotal: 6m 37s\tremaining: 18m 51s\n",
      "7900:\tlearn: 0.2285592\ttest: 0.2427141\tbest: 0.2427123 (7891)\ttotal: 6m 42s\tremaining: 18m 45s\n",
      "8000:\tlearn: 0.2284409\ttest: 0.2426862\tbest: 0.2426862 (8000)\ttotal: 6m 47s\tremaining: 18m 39s\n",
      "8100:\tlearn: 0.2283216\ttest: 0.2426585\tbest: 0.2426547 (8092)\ttotal: 6m 52s\tremaining: 18m 33s\n",
      "8200:\tlearn: 0.2282113\ttest: 0.2426244\tbest: 0.2426204 (8174)\ttotal: 6m 57s\tremaining: 18m 28s\n",
      "8300:\tlearn: 0.2281118\ttest: 0.2426072\tbest: 0.2426071 (8299)\ttotal: 7m 2s\tremaining: 18m 24s\n",
      "8400:\tlearn: 0.2280027\ttest: 0.2425649\tbest: 0.2425633 (8397)\ttotal: 7m 7s\tremaining: 18m 18s\n",
      "8500:\tlearn: 0.2278875\ttest: 0.2425539\tbest: 0.2425509 (8488)\ttotal: 7m 12s\tremaining: 18m 13s\n",
      "8600:\tlearn: 0.2277809\ttest: 0.2425357\tbest: 0.2425347 (8599)\ttotal: 7m 17s\tremaining: 18m 8s\n",
      "8700:\tlearn: 0.2276689\ttest: 0.2425091\tbest: 0.2425049 (8679)\ttotal: 7m 22s\tremaining: 18m 2s\n",
      "8800:\tlearn: 0.2275579\ttest: 0.2424919\tbest: 0.2424886 (8745)\ttotal: 7m 27s\tremaining: 17m 57s\n",
      "8900:\tlearn: 0.2274521\ttest: 0.2424778\tbest: 0.2424761 (8892)\ttotal: 7m 32s\tremaining: 17m 51s\n",
      "9000:\tlearn: 0.2273433\ttest: 0.2424624\tbest: 0.2424621 (8995)\ttotal: 7m 36s\tremaining: 17m 46s\n",
      "9100:\tlearn: 0.2272441\ttest: 0.2424397\tbest: 0.2424368 (9085)\ttotal: 7m 42s\tremaining: 17m 41s\n",
      "9200:\tlearn: 0.2271407\ttest: 0.2424314\tbest: 0.2424237 (9170)\ttotal: 7m 47s\tremaining: 17m 35s\n",
      "9300:\tlearn: 0.2270256\ttest: 0.2423819\tbest: 0.2423805 (9290)\ttotal: 7m 52s\tremaining: 17m 30s\n",
      "9400:\tlearn: 0.2269179\ttest: 0.2423686\tbest: 0.2423649 (9370)\ttotal: 7m 56s\tremaining: 17m 24s\n",
      "9500:\tlearn: 0.2268177\ttest: 0.2423549\tbest: 0.2423549 (9500)\ttotal: 8m 1s\tremaining: 17m 19s\n",
      "9600:\tlearn: 0.2267116\ttest: 0.2423439\tbest: 0.2423307 (9561)\ttotal: 8m 6s\tremaining: 17m 14s\n",
      "9700:\tlearn: 0.2266156\ttest: 0.2423231\tbest: 0.2423204 (9694)\ttotal: 8m 12s\tremaining: 17m 9s\n",
      "9800:\tlearn: 0.2265059\ttest: 0.2423049\tbest: 0.2423031 (9792)\ttotal: 8m 17s\tremaining: 17m 4s\n",
      "9900:\tlearn: 0.2264011\ttest: 0.2422817\tbest: 0.2422794 (9892)\ttotal: 8m 21s\tremaining: 16m 59s\n",
      "10000:\tlearn: 0.2263030\ttest: 0.2422598\tbest: 0.2422598 (10000)\ttotal: 8m 26s\tremaining: 16m 53s\n",
      "10100:\tlearn: 0.2261929\ttest: 0.2422251\tbest: 0.2422246 (10099)\ttotal: 8m 31s\tremaining: 16m 48s\n",
      "10200:\tlearn: 0.2260828\ttest: 0.2422095\tbest: 0.2422067 (10194)\ttotal: 8m 36s\tremaining: 16m 43s\n",
      "10300:\tlearn: 0.2259836\ttest: 0.2421965\tbest: 0.2421958 (10274)\ttotal: 8m 41s\tremaining: 16m 37s\n",
      "10400:\tlearn: 0.2258807\ttest: 0.2421835\tbest: 0.2421835 (10400)\ttotal: 8m 46s\tremaining: 16m 32s\n",
      "10500:\tlearn: 0.2257902\ttest: 0.2421626\tbest: 0.2421606 (10488)\ttotal: 8m 51s\tremaining: 16m 27s\n",
      "10600:\tlearn: 0.2256913\ttest: 0.2421398\tbest: 0.2421396 (10598)\ttotal: 8m 57s\tremaining: 16m 22s\n",
      "10700:\tlearn: 0.2255955\ttest: 0.2421423\tbest: 0.2421350 (10613)\ttotal: 9m 2s\tremaining: 16m 18s\n",
      "10800:\tlearn: 0.2255017\ttest: 0.2421223\tbest: 0.2421223 (10800)\ttotal: 9m 7s\tremaining: 16m 13s\n",
      "10900:\tlearn: 0.2254135\ttest: 0.2420942\tbest: 0.2420942 (10900)\ttotal: 9m 12s\tremaining: 16m 7s\n",
      "11000:\tlearn: 0.2253181\ttest: 0.2420812\tbest: 0.2420800 (10946)\ttotal: 9m 17s\tremaining: 16m 2s\n",
      "11100:\tlearn: 0.2252245\ttest: 0.2420530\tbest: 0.2420530 (11100)\ttotal: 9m 22s\tremaining: 15m 57s\n",
      "11200:\tlearn: 0.2251236\ttest: 0.2420379\tbest: 0.2420372 (11196)\ttotal: 9m 28s\tremaining: 15m 53s\n",
      "11300:\tlearn: 0.2250308\ttest: 0.2420189\tbest: 0.2420189 (11300)\ttotal: 9m 33s\tremaining: 15m 48s\n",
      "11400:\tlearn: 0.2249447\ttest: 0.2420119\tbest: 0.2420042 (11363)\ttotal: 9m 38s\tremaining: 15m 43s\n",
      "11500:\tlearn: 0.2248462\ttest: 0.2419826\tbest: 0.2419826 (11500)\ttotal: 9m 43s\tremaining: 15m 39s\n",
      "11600:\tlearn: 0.2247554\ttest: 0.2419539\tbest: 0.2419526 (11584)\ttotal: 9m 48s\tremaining: 15m 33s\n",
      "11700:\tlearn: 0.2246580\ttest: 0.2419282\tbest: 0.2419282 (11700)\ttotal: 9m 53s\tremaining: 15m 28s\n",
      "11800:\tlearn: 0.2245684\ttest: 0.2419145\tbest: 0.2419124 (11781)\ttotal: 9m 58s\tremaining: 15m 22s\n",
      "11900:\tlearn: 0.2244809\ttest: 0.2419009\tbest: 0.2418996 (11898)\ttotal: 10m 3s\tremaining: 15m 17s\n",
      "12000:\tlearn: 0.2243891\ttest: 0.2418792\tbest: 0.2418785 (11995)\ttotal: 10m 7s\tremaining: 15m 11s\n",
      "12100:\tlearn: 0.2242923\ttest: 0.2418569\tbest: 0.2418460 (12076)\ttotal: 10m 12s\tremaining: 15m 6s\n",
      "12200:\tlearn: 0.2241960\ttest: 0.2418433\tbest: 0.2418388 (12153)\ttotal: 10m 17s\tremaining: 15m 1s\n",
      "12300:\tlearn: 0.2240986\ttest: 0.2418407\tbest: 0.2418388 (12153)\ttotal: 10m 22s\tremaining: 14m 55s\n",
      "12400:\tlearn: 0.2240111\ttest: 0.2418305\tbest: 0.2418305 (12400)\ttotal: 10m 27s\tremaining: 14m 50s\n",
      "12500:\tlearn: 0.2239182\ttest: 0.2418119\tbest: 0.2418117 (12498)\ttotal: 10m 31s\tremaining: 14m 44s\n",
      "12600:\tlearn: 0.2238415\ttest: 0.2418035\tbest: 0.2418035 (12600)\ttotal: 10m 36s\tremaining: 14m 39s\n",
      "12700:\tlearn: 0.2237508\ttest: 0.2417947\tbest: 0.2417905 (12679)\ttotal: 10m 42s\tremaining: 14m 34s\n",
      "12800:\tlearn: 0.2236573\ttest: 0.2417741\tbest: 0.2417728 (12797)\ttotal: 10m 47s\tremaining: 14m 30s\n",
      "12900:\tlearn: 0.2235763\ttest: 0.2417757\tbest: 0.2417669 (12850)\ttotal: 10m 53s\tremaining: 14m 25s\n",
      "13000:\tlearn: 0.2234844\ttest: 0.2417513\tbest: 0.2417470 (12990)\ttotal: 10m 58s\tremaining: 14m 20s\n",
      "13100:\tlearn: 0.2234054\ttest: 0.2417329\tbest: 0.2417319 (13098)\ttotal: 11m 3s\tremaining: 14m 15s\n",
      "13200:\tlearn: 0.2233080\ttest: 0.2417275\tbest: 0.2417245 (13195)\ttotal: 11m 9s\tremaining: 14m 12s\n",
      "13300:\tlearn: 0.2232179\ttest: 0.2417222\tbest: 0.2417193 (13215)\ttotal: 11m 15s\tremaining: 14m 8s\n",
      "13400:\tlearn: 0.2231228\ttest: 0.2417035\tbest: 0.2416990 (13394)\ttotal: 11m 21s\tremaining: 14m 4s\n",
      "13500:\tlearn: 0.2230395\ttest: 0.2417039\tbest: 0.2416956 (13489)\ttotal: 11m 27s\tremaining: 13m 59s\n",
      "13600:\tlearn: 0.2229473\ttest: 0.2416998\tbest: 0.2416953 (13534)\ttotal: 11m 33s\tremaining: 13m 55s\n",
      "13700:\tlearn: 0.2228666\ttest: 0.2416756\tbest: 0.2416749 (13693)\ttotal: 11m 38s\tremaining: 13m 51s\n",
      "13800:\tlearn: 0.2227872\ttest: 0.2416696\tbest: 0.2416667 (13786)\ttotal: 11m 44s\tremaining: 13m 47s\n",
      "13900:\tlearn: 0.2226953\ttest: 0.2416577\tbest: 0.2416570 (13897)\ttotal: 11m 50s\tremaining: 13m 42s\n",
      "14000:\tlearn: 0.2226089\ttest: 0.2416505\tbest: 0.2416435 (13969)\ttotal: 11m 55s\tremaining: 13m 37s\n",
      "14100:\tlearn: 0.2225265\ttest: 0.2416472\tbest: 0.2416435 (13969)\ttotal: 12m\tremaining: 13m 32s\n",
      "14200:\tlearn: 0.2224465\ttest: 0.2416450\tbest: 0.2416400 (14186)\ttotal: 12m 5s\tremaining: 13m 27s\n",
      "14300:\tlearn: 0.2223649\ttest: 0.2416506\tbest: 0.2416400 (14186)\ttotal: 12m 10s\tremaining: 13m 22s\n",
      "14400:\tlearn: 0.2222919\ttest: 0.2416357\tbest: 0.2416345 (14396)\ttotal: 12m 15s\tremaining: 13m 16s\n",
      "14500:\tlearn: 0.2222094\ttest: 0.2416282\tbest: 0.2416246 (14484)\ttotal: 12m 20s\tremaining: 13m 11s\n",
      "14600:\tlearn: 0.2221259\ttest: 0.2416264\tbest: 0.2416183 (14570)\ttotal: 12m 25s\tremaining: 13m 6s\n",
      "14700:\tlearn: 0.2220395\ttest: 0.2416152\tbest: 0.2416136 (14697)\ttotal: 12m 30s\tremaining: 13m 1s\n",
      "14800:\tlearn: 0.2219499\ttest: 0.2415906\tbest: 0.2415904 (14798)\ttotal: 12m 35s\tremaining: 12m 55s\n",
      "14900:\tlearn: 0.2218703\ttest: 0.2415809\tbest: 0.2415766 (14839)\ttotal: 12m 40s\tremaining: 12m 50s\n",
      "15000:\tlearn: 0.2217936\ttest: 0.2415681\tbest: 0.2415617 (14976)\ttotal: 12m 44s\tremaining: 12m 44s\n",
      "15100:\tlearn: 0.2217194\ttest: 0.2415572\tbest: 0.2415524 (15075)\ttotal: 12m 49s\tremaining: 12m 39s\n",
      "15200:\tlearn: 0.2216411\ttest: 0.2415535\tbest: 0.2415489 (15147)\ttotal: 12m 54s\tremaining: 12m 33s\n",
      "15300:\tlearn: 0.2215717\ttest: 0.2415466\tbest: 0.2415451 (15269)\ttotal: 12m 59s\tremaining: 12m 28s\n",
      "15400:\tlearn: 0.2214932\ttest: 0.2415470\tbest: 0.2415423 (15389)\ttotal: 13m 3s\tremaining: 12m 23s\n",
      "15500:\tlearn: 0.2214143\ttest: 0.2415424\tbest: 0.2415383 (15488)\ttotal: 13m 8s\tremaining: 12m 17s\n",
      "15600:\tlearn: 0.2213378\ttest: 0.2415365\tbest: 0.2415337 (15577)\ttotal: 13m 13s\tremaining: 12m 12s\n",
      "15700:\tlearn: 0.2212599\ttest: 0.2415195\tbest: 0.2415172 (15686)\ttotal: 13m 17s\tremaining: 12m 6s\n",
      "15800:\tlearn: 0.2211811\ttest: 0.2415111\tbest: 0.2415111 (15800)\ttotal: 13m 22s\tremaining: 12m 1s\n",
      "15900:\tlearn: 0.2211073\ttest: 0.2414899\tbest: 0.2414891 (15899)\ttotal: 13m 27s\tremaining: 11m 55s\n",
      "16000:\tlearn: 0.2210314\ttest: 0.2414807\tbest: 0.2414803 (15997)\ttotal: 13m 32s\tremaining: 11m 51s\n",
      "16100:\tlearn: 0.2209581\ttest: 0.2414736\tbest: 0.2414656 (16077)\ttotal: 13m 37s\tremaining: 11m 46s\n",
      "16200:\tlearn: 0.2208769\ttest: 0.2414805\tbest: 0.2414656 (16077)\ttotal: 13m 42s\tremaining: 11m 40s\n",
      "16300:\tlearn: 0.2208022\ttest: 0.2414631\tbest: 0.2414603 (16294)\ttotal: 13m 47s\tremaining: 11m 35s\n",
      "16400:\tlearn: 0.2207255\ttest: 0.2414663\tbest: 0.2414578 (16354)\ttotal: 13m 52s\tremaining: 11m 30s\n",
      "16500:\tlearn: 0.2206571\ttest: 0.2414551\tbest: 0.2414533 (16462)\ttotal: 13m 57s\tremaining: 11m 25s\n",
      "16600:\tlearn: 0.2205847\ttest: 0.2414418\tbest: 0.2414411 (16594)\ttotal: 14m 3s\tremaining: 11m 20s\n",
      "16700:\tlearn: 0.2205174\ttest: 0.2414238\tbest: 0.2414238 (16687)\ttotal: 14m 8s\tremaining: 11m 15s\n",
      "16800:\tlearn: 0.2204442\ttest: 0.2414138\tbest: 0.2414133 (16797)\ttotal: 14m 12s\tremaining: 11m 10s\n",
      "16900:\tlearn: 0.2203695\ttest: 0.2414005\tbest: 0.2414005 (16900)\ttotal: 14m 17s\tremaining: 11m 4s\n",
      "17000:\tlearn: 0.2202916\ttest: 0.2413919\tbest: 0.2413880 (16975)\ttotal: 14m 22s\tremaining: 10m 59s\n",
      "17100:\tlearn: 0.2202221\ttest: 0.2413778\tbest: 0.2413771 (17097)\ttotal: 14m 27s\tremaining: 10m 54s\n",
      "17200:\tlearn: 0.2201450\ttest: 0.2413605\tbest: 0.2413605 (17200)\ttotal: 14m 32s\tremaining: 10m 48s\n",
      "17300:\tlearn: 0.2200720\ttest: 0.2413569\tbest: 0.2413540 (17221)\ttotal: 14m 37s\tremaining: 10m 43s\n",
      "17400:\tlearn: 0.2200014\ttest: 0.2413488\tbest: 0.2413460 (17394)\ttotal: 14m 42s\tremaining: 10m 38s\n",
      "17500:\tlearn: 0.2199314\ttest: 0.2413532\tbest: 0.2413415 (17417)\ttotal: 14m 46s\tremaining: 10m 33s\n",
      "17600:\tlearn: 0.2198632\ttest: 0.2413360\tbest: 0.2413360 (17600)\ttotal: 14m 52s\tremaining: 10m 28s\n",
      "17700:\tlearn: 0.2197902\ttest: 0.2413128\tbest: 0.2413121 (17679)\ttotal: 14m 56s\tremaining: 10m 23s\n",
      "17800:\tlearn: 0.2197160\ttest: 0.2413021\tbest: 0.2413020 (17799)\ttotal: 15m 1s\tremaining: 10m 17s\n",
      "17900:\tlearn: 0.2196460\ttest: 0.2412809\tbest: 0.2412793 (17897)\ttotal: 15m 6s\tremaining: 10m 12s\n",
      "18000:\tlearn: 0.2195802\ttest: 0.2412872\tbest: 0.2412775 (17915)\ttotal: 15m 11s\tremaining: 10m 7s\n",
      "18100:\tlearn: 0.2195093\ttest: 0.2412829\tbest: 0.2412731 (18059)\ttotal: 15m 16s\tremaining: 10m 2s\n",
      "18200:\tlearn: 0.2194406\ttest: 0.2412901\tbest: 0.2412731 (18059)\ttotal: 15m 20s\tremaining: 9m 56s\n",
      "18300:\tlearn: 0.2193767\ttest: 0.2412739\tbest: 0.2412731 (18059)\ttotal: 15m 25s\tremaining: 9m 51s\n",
      "18400:\tlearn: 0.2193063\ttest: 0.2412635\tbest: 0.2412635 (18400)\ttotal: 15m 30s\tremaining: 9m 46s\n",
      "18500:\tlearn: 0.2192357\ttest: 0.2412593\tbest: 0.2412584 (18499)\ttotal: 15m 35s\tremaining: 9m 41s\n",
      "18600:\tlearn: 0.2191685\ttest: 0.2412550\tbest: 0.2412527 (18598)\ttotal: 15m 40s\tremaining: 9m 36s\n",
      "18700:\tlearn: 0.2190974\ttest: 0.2412331\tbest: 0.2412331 (18700)\ttotal: 15m 45s\tremaining: 9m 31s\n",
      "18800:\tlearn: 0.2190276\ttest: 0.2412434\tbest: 0.2412327 (18705)\ttotal: 15m 50s\tremaining: 9m 26s\n",
      "18900:\tlearn: 0.2189629\ttest: 0.2412105\tbest: 0.2412105 (18900)\ttotal: 15m 55s\tremaining: 9m 21s\n",
      "19000:\tlearn: 0.2188900\ttest: 0.2412037\tbest: 0.2411953 (18971)\ttotal: 16m 1s\tremaining: 9m 16s\n",
      "19100:\tlearn: 0.2188189\ttest: 0.2412074\tbest: 0.2411953 (18971)\ttotal: 16m 6s\tremaining: 9m 11s\n",
      "19200:\tlearn: 0.2187525\ttest: 0.2412195\tbest: 0.2411953 (18971)\ttotal: 16m 12s\tremaining: 9m 6s\n",
      "19300:\tlearn: 0.2186833\ttest: 0.2412187\tbest: 0.2411953 (18971)\ttotal: 16m 18s\tremaining: 9m 2s\n",
      "19400:\tlearn: 0.2186194\ttest: 0.2412140\tbest: 0.2411953 (18971)\ttotal: 16m 24s\tremaining: 8m 57s\n",
      "19500:\tlearn: 0.2185435\ttest: 0.2412094\tbest: 0.2411953 (18971)\ttotal: 16m 30s\tremaining: 8m 53s\n",
      "19600:\tlearn: 0.2184758\ttest: 0.2412078\tbest: 0.2411953 (18971)\ttotal: 16m 36s\tremaining: 8m 48s\n",
      "19700:\tlearn: 0.2184131\ttest: 0.2412109\tbest: 0.2411953 (18971)\ttotal: 16m 43s\tremaining: 8m 44s\n",
      "19800:\tlearn: 0.2183455\ttest: 0.2412230\tbest: 0.2411953 (18971)\ttotal: 16m 49s\tremaining: 8m 39s\n",
      "19900:\tlearn: 0.2182832\ttest: 0.2412049\tbest: 0.2411953 (18971)\ttotal: 16m 54s\tremaining: 8m 34s\n",
      "20000:\tlearn: 0.2182146\ttest: 0.2411931\tbest: 0.2411919 (19976)\ttotal: 16m 59s\tremaining: 8m 29s\n",
      "20100:\tlearn: 0.2181408\ttest: 0.2411878\tbest: 0.2411852 (20097)\ttotal: 17m 4s\tremaining: 8m 24s\n",
      "20200:\tlearn: 0.2180742\ttest: 0.2411759\tbest: 0.2411759 (20200)\ttotal: 17m 9s\tremaining: 8m 19s\n",
      "20300:\tlearn: 0.2180048\ttest: 0.2411866\tbest: 0.2411755 (20206)\ttotal: 17m 15s\tremaining: 8m 14s\n",
      "20400:\tlearn: 0.2179465\ttest: 0.2411758\tbest: 0.2411718 (20392)\ttotal: 17m 20s\tremaining: 8m 9s\n",
      "20500:\tlearn: 0.2178861\ttest: 0.2411588\tbest: 0.2411559 (20474)\ttotal: 17m 25s\tremaining: 8m 4s\n",
      "20600:\tlearn: 0.2178198\ttest: 0.2411630\tbest: 0.2411559 (20474)\ttotal: 17m 29s\tremaining: 7m 58s\n",
      "20700:\tlearn: 0.2177545\ttest: 0.2411643\tbest: 0.2411559 (20474)\ttotal: 17m 34s\tremaining: 7m 53s\n",
      "20800:\tlearn: 0.2176841\ttest: 0.2411499\tbest: 0.2411499 (20799)\ttotal: 17m 39s\tremaining: 7m 48s\n",
      "20900:\tlearn: 0.2176136\ttest: 0.2411568\tbest: 0.2411371 (20843)\ttotal: 17m 44s\tremaining: 7m 43s\n",
      "21000:\tlearn: 0.2175491\ttest: 0.2411497\tbest: 0.2411371 (20843)\ttotal: 17m 50s\tremaining: 7m 38s\n",
      "21100:\tlearn: 0.2174891\ttest: 0.2411496\tbest: 0.2411371 (20843)\ttotal: 17m 56s\tremaining: 7m 33s\n",
      "21200:\tlearn: 0.2174243\ttest: 0.2411514\tbest: 0.2411371 (20843)\ttotal: 18m 2s\tremaining: 7m 29s\n",
      "21300:\tlearn: 0.2173568\ttest: 0.2411460\tbest: 0.2411371 (20843)\ttotal: 18m 7s\tremaining: 7m 24s\n",
      "21400:\tlearn: 0.2172907\ttest: 0.2411424\tbest: 0.2411371 (20843)\ttotal: 18m 12s\tremaining: 7m 19s\n",
      "21500:\tlearn: 0.2172214\ttest: 0.2411158\tbest: 0.2411158 (21495)\ttotal: 18m 18s\tremaining: 7m 14s\n",
      "21600:\tlearn: 0.2171592\ttest: 0.2411172\tbest: 0.2411123 (21532)\ttotal: 18m 23s\tremaining: 7m 9s\n",
      "21700:\tlearn: 0.2170901\ttest: 0.2411167\tbest: 0.2411123 (21532)\ttotal: 18m 29s\tremaining: 7m 4s\n",
      "21800:\tlearn: 0.2170274\ttest: 0.2411273\tbest: 0.2411123 (21532)\ttotal: 18m 34s\tremaining: 6m 59s\n",
      "21900:\tlearn: 0.2169659\ttest: 0.2411119\tbest: 0.2411119 (21900)\ttotal: 18m 39s\tremaining: 6m 53s\n",
      "22000:\tlearn: 0.2169024\ttest: 0.2411041\tbest: 0.2411041 (22000)\ttotal: 18m 44s\tremaining: 6m 48s\n",
      "22100:\tlearn: 0.2168376\ttest: 0.2410900\tbest: 0.2410874 (22078)\ttotal: 18m 49s\tremaining: 6m 43s\n",
      "22200:\tlearn: 0.2167718\ttest: 0.2410919\tbest: 0.2410874 (22078)\ttotal: 18m 55s\tremaining: 6m 38s\n",
      "22300:\tlearn: 0.2167124\ttest: 0.2410900\tbest: 0.2410839 (22275)\ttotal: 19m\tremaining: 6m 33s\n",
      "22400:\tlearn: 0.2166485\ttest: 0.2410867\tbest: 0.2410839 (22275)\ttotal: 19m 5s\tremaining: 6m 28s\n",
      "22500:\tlearn: 0.2165855\ttest: 0.2410892\tbest: 0.2410839 (22275)\ttotal: 19m 9s\tremaining: 6m 23s\n",
      "22600:\tlearn: 0.2165243\ttest: 0.2410929\tbest: 0.2410839 (22275)\ttotal: 19m 14s\tremaining: 6m 18s\n",
      "22700:\tlearn: 0.2164663\ttest: 0.2410851\tbest: 0.2410839 (22275)\ttotal: 19m 19s\tremaining: 6m 12s\n",
      "22800:\tlearn: 0.2163988\ttest: 0.2410750\tbest: 0.2410713 (22789)\ttotal: 19m 24s\tremaining: 6m 7s\n",
      "22900:\tlearn: 0.2163308\ttest: 0.2410669\tbest: 0.2410596 (22860)\ttotal: 19m 29s\tremaining: 6m 2s\n",
      "23000:\tlearn: 0.2162733\ttest: 0.2410608\tbest: 0.2410572 (22976)\ttotal: 19m 34s\tremaining: 5m 57s\n",
      "23100:\tlearn: 0.2162169\ttest: 0.2410681\tbest: 0.2410572 (22976)\ttotal: 19m 39s\tremaining: 5m 52s\n",
      "23200:\tlearn: 0.2161578\ttest: 0.2410676\tbest: 0.2410572 (22976)\ttotal: 19m 44s\tremaining: 5m 46s\n",
      "23300:\tlearn: 0.2160990\ttest: 0.2410680\tbest: 0.2410558 (23255)\ttotal: 19m 48s\tremaining: 5m 41s\n",
      "23400:\tlearn: 0.2160365\ttest: 0.2410620\tbest: 0.2410558 (23255)\ttotal: 19m 53s\tremaining: 5m 36s\n",
      "23500:\tlearn: 0.2159760\ttest: 0.2410616\tbest: 0.2410558 (23255)\ttotal: 19m 58s\tremaining: 5m 31s\n",
      "23600:\tlearn: 0.2159170\ttest: 0.2410694\tbest: 0.2410557 (23523)\ttotal: 20m 3s\tremaining: 5m 26s\n",
      "23700:\tlearn: 0.2158537\ttest: 0.2410710\tbest: 0.2410557 (23523)\ttotal: 20m 8s\tremaining: 5m 21s\n",
      "23800:\tlearn: 0.2157894\ttest: 0.2410646\tbest: 0.2410557 (23523)\ttotal: 20m 13s\tremaining: 5m 15s\n",
      "23900:\tlearn: 0.2157303\ttest: 0.2410521\tbest: 0.2410474 (23859)\ttotal: 20m 18s\tremaining: 5m 10s\n",
      "24000:\tlearn: 0.2156756\ttest: 0.2410503\tbest: 0.2410457 (23950)\ttotal: 20m 22s\tremaining: 5m 5s\n",
      "24100:\tlearn: 0.2156164\ttest: 0.2410352\tbest: 0.2410343 (24096)\ttotal: 20m 27s\tremaining: 5m\n",
      "24200:\tlearn: 0.2155672\ttest: 0.2410275\tbest: 0.2410266 (24167)\ttotal: 20m 32s\tremaining: 4m 55s\n",
      "24300:\tlearn: 0.2155066\ttest: 0.2410212\tbest: 0.2410186 (24292)\ttotal: 20m 37s\tremaining: 4m 50s\n",
      "24400:\tlearn: 0.2154495\ttest: 0.2410155\tbest: 0.2410097 (24339)\ttotal: 20m 42s\tremaining: 4m 45s\n",
      "24500:\tlearn: 0.2153904\ttest: 0.2410097\tbest: 0.2410096 (24499)\ttotal: 20m 47s\tremaining: 4m 39s\n",
      "24600:\tlearn: 0.2153335\ttest: 0.2410214\tbest: 0.2410092 (24501)\ttotal: 20m 52s\tremaining: 4m 34s\n",
      "24700:\tlearn: 0.2152686\ttest: 0.2410149\tbest: 0.2410092 (24501)\ttotal: 20m 57s\tremaining: 4m 29s\n",
      "24800:\tlearn: 0.2152153\ttest: 0.2410053\tbest: 0.2410024 (24768)\ttotal: 21m 2s\tremaining: 4m 24s\n",
      "24900:\tlearn: 0.2151564\ttest: 0.2410071\tbest: 0.2410024 (24768)\ttotal: 21m 6s\tremaining: 4m 19s\n",
      "25000:\tlearn: 0.2150982\ttest: 0.2409949\tbest: 0.2409939 (24997)\ttotal: 21m 11s\tremaining: 4m 14s\n",
      "25100:\tlearn: 0.2150406\ttest: 0.2409819\tbest: 0.2409819 (25100)\ttotal: 21m 16s\tremaining: 4m 9s\n",
      "25200:\tlearn: 0.2149848\ttest: 0.2409829\tbest: 0.2409788 (25129)\ttotal: 21m 21s\tremaining: 4m 4s\n",
      "25300:\tlearn: 0.2149256\ttest: 0.2409750\tbest: 0.2409738 (25287)\ttotal: 21m 26s\tremaining: 3m 58s\n",
      "25400:\tlearn: 0.2148672\ttest: 0.2409666\tbest: 0.2409640 (25395)\ttotal: 21m 30s\tremaining: 3m 53s\n",
      "25500:\tlearn: 0.2148098\ttest: 0.2409598\tbest: 0.2409552 (25450)\ttotal: 21m 35s\tremaining: 3m 48s\n",
      "25600:\tlearn: 0.2147530\ttest: 0.2409620\tbest: 0.2409552 (25450)\ttotal: 21m 40s\tremaining: 3m 43s\n",
      "25700:\tlearn: 0.2146941\ttest: 0.2409580\tbest: 0.2409552 (25450)\ttotal: 21m 45s\tremaining: 3m 38s\n",
      "25800:\tlearn: 0.2146406\ttest: 0.2409676\tbest: 0.2409532 (25718)\ttotal: 21m 50s\tremaining: 3m 33s\n",
      "25900:\tlearn: 0.2145863\ttest: 0.2409725\tbest: 0.2409532 (25718)\ttotal: 21m 55s\tremaining: 3m 28s\n",
      "26000:\tlearn: 0.2145288\ttest: 0.2409658\tbest: 0.2409532 (25718)\ttotal: 22m 1s\tremaining: 3m 23s\n",
      "26100:\tlearn: 0.2144662\ttest: 0.2409645\tbest: 0.2409532 (25718)\ttotal: 22m 7s\tremaining: 3m 18s\n",
      "26200:\tlearn: 0.2144107\ttest: 0.2409684\tbest: 0.2409532 (25718)\ttotal: 22m 13s\tremaining: 3m 13s\n",
      "26300:\tlearn: 0.2143497\ttest: 0.2409607\tbest: 0.2409532 (25718)\ttotal: 22m 18s\tremaining: 3m 8s\n",
      "26400:\tlearn: 0.2142938\ttest: 0.2409699\tbest: 0.2409532 (25718)\ttotal: 22m 23s\tremaining: 3m 3s\n",
      "26500:\tlearn: 0.2142379\ttest: 0.2409570\tbest: 0.2409532 (25718)\ttotal: 22m 29s\tremaining: 2m 58s\n",
      "26600:\tlearn: 0.2141794\ttest: 0.2409584\tbest: 0.2409532 (25718)\ttotal: 22m 34s\tremaining: 2m 53s\n",
      "26700:\tlearn: 0.2141217\ttest: 0.2409602\tbest: 0.2409532 (25718)\ttotal: 22m 39s\tremaining: 2m 48s\n",
      "26800:\tlearn: 0.2140685\ttest: 0.2409496\tbest: 0.2409460 (26792)\ttotal: 22m 45s\tremaining: 2m 42s\n",
      "26900:\tlearn: 0.2140079\ttest: 0.2409413\tbest: 0.2409393 (26871)\ttotal: 22m 50s\tremaining: 2m 37s\n",
      "27000:\tlearn: 0.2139558\ttest: 0.2409380\tbest: 0.2409354 (26945)\ttotal: 22m 55s\tremaining: 2m 32s\n",
      "27100:\tlearn: 0.2139019\ttest: 0.2409497\tbest: 0.2409354 (26945)\ttotal: 23m\tremaining: 2m 27s\n",
      "27200:\tlearn: 0.2138456\ttest: 0.2409500\tbest: 0.2409354 (26945)\ttotal: 23m 5s\tremaining: 2m 22s\n",
      "27300:\tlearn: 0.2137941\ttest: 0.2409379\tbest: 0.2409354 (26945)\ttotal: 23m 10s\tremaining: 2m 17s\n",
      "27400:\tlearn: 0.2137399\ttest: 0.2409417\tbest: 0.2409354 (26945)\ttotal: 23m 15s\tremaining: 2m 12s\n",
      "27500:\tlearn: 0.2136875\ttest: 0.2409465\tbest: 0.2409354 (26945)\ttotal: 23m 21s\tremaining: 2m 7s\n",
      "27600:\tlearn: 0.2136304\ttest: 0.2409359\tbest: 0.2409326 (27552)\ttotal: 23m 26s\tremaining: 2m 2s\n",
      "27700:\tlearn: 0.2135741\ttest: 0.2409340\tbest: 0.2409326 (27552)\ttotal: 23m 31s\tremaining: 1m 57s\n",
      "27800:\tlearn: 0.2135173\ttest: 0.2409312\tbest: 0.2409287 (27718)\ttotal: 23m 37s\tremaining: 1m 52s\n",
      "27900:\tlearn: 0.2134679\ttest: 0.2409251\tbest: 0.2409238 (27898)\ttotal: 23m 42s\tremaining: 1m 46s\n",
      "28000:\tlearn: 0.2134191\ttest: 0.2409203\tbest: 0.2409203 (28000)\ttotal: 23m 47s\tremaining: 1m 41s\n",
      "28100:\tlearn: 0.2133641\ttest: 0.2409245\tbest: 0.2409185 (28002)\ttotal: 23m 52s\tremaining: 1m 36s\n",
      "28200:\tlearn: 0.2133105\ttest: 0.2409243\tbest: 0.2409181 (28138)\ttotal: 23m 57s\tremaining: 1m 31s\n",
      "28300:\tlearn: 0.2132536\ttest: 0.2409189\tbest: 0.2409133 (28273)\ttotal: 24m 3s\tremaining: 1m 26s\n",
      "28400:\tlearn: 0.2132019\ttest: 0.2409243\tbest: 0.2409133 (28273)\ttotal: 24m 8s\tremaining: 1m 21s\n",
      "28500:\tlearn: 0.2131493\ttest: 0.2409149\tbest: 0.2409130 (28434)\ttotal: 24m 13s\tremaining: 1m 16s\n",
      "28600:\tlearn: 0.2130945\ttest: 0.2409088\tbest: 0.2409067 (28593)\ttotal: 24m 20s\tremaining: 1m 11s\n",
      "28700:\tlearn: 0.2130428\ttest: 0.2409019\tbest: 0.2408964 (28681)\ttotal: 24m 27s\tremaining: 1m 6s\n",
      "28800:\tlearn: 0.2129871\ttest: 0.2409005\tbest: 0.2408964 (28681)\ttotal: 24m 33s\tremaining: 1m 1s\n",
      "28900:\tlearn: 0.2129319\ttest: 0.2408902\tbest: 0.2408902 (28900)\ttotal: 24m 39s\tremaining: 56.2s\n",
      "29000:\tlearn: 0.2128757\ttest: 0.2408933\tbest: 0.2408874 (28915)\ttotal: 24m 44s\tremaining: 51.1s\n",
      "29100:\tlearn: 0.2128260\ttest: 0.2408995\tbest: 0.2408874 (28915)\ttotal: 24m 50s\tremaining: 46.1s\n",
      "29200:\tlearn: 0.2127732\ttest: 0.2409058\tbest: 0.2408874 (28915)\ttotal: 24m 56s\tremaining: 40.9s\n",
      "29300:\tlearn: 0.2127200\ttest: 0.2409077\tbest: 0.2408874 (28915)\ttotal: 25m 2s\tremaining: 35.8s\n",
      "29400:\tlearn: 0.2126619\ttest: 0.2409034\tbest: 0.2408874 (28915)\ttotal: 25m 8s\tremaining: 30.7s\n",
      "29500:\tlearn: 0.2126088\ttest: 0.2409168\tbest: 0.2408874 (28915)\ttotal: 25m 14s\tremaining: 25.6s\n",
      "29600:\tlearn: 0.2125562\ttest: 0.2409228\tbest: 0.2408874 (28915)\ttotal: 25m 20s\tremaining: 20.5s\n",
      "29700:\tlearn: 0.2125025\ttest: 0.2409138\tbest: 0.2408874 (28915)\ttotal: 25m 25s\tremaining: 15.4s\n",
      "29800:\tlearn: 0.2124510\ttest: 0.2409083\tbest: 0.2408874 (28915)\ttotal: 25m 31s\tremaining: 10.2s\n",
      "29900:\tlearn: 0.2123985\ttest: 0.2409078\tbest: 0.2408874 (28915)\ttotal: 25m 36s\tremaining: 5.09s\n",
      "29999:\tlearn: 0.2123500\ttest: 0.2409124\tbest: 0.2408874 (28915)\ttotal: 25m 41s\tremaining: 0us\n",
      "\n",
      "bestTest = 0.2408874236\n",
      "bestIteration = 28915\n",
      "\n",
      "Shrink model to first 28916 iterations.\n"
     ]
    },
    {
     "data": {
      "text/plain": [
       "<catboost.core.CatBoostRegressor at 0x1c8ead06230>"
      ]
     },
     "execution_count": 157,
     "metadata": {},
     "output_type": "execute_result"
    }
   ],
   "source": [
    "catboost_model.fit(X_train_text, y_train, eval_set=(X_val_text, y_val), text_features=[0], verbose=100)"
   ]
  },
  {
   "cell_type": "code",
   "execution_count": 173,
   "metadata": {},
   "outputs": [
    {
     "data": {
      "text/plain": [
       "<catboost.core.CatBoostRegressor at 0x1c8e86f2fb0>"
      ]
     },
     "execution_count": 173,
     "metadata": {},
     "output_type": "execute_result"
    }
   ],
   "source": [
    "catboost_model.save_model('D:/mashob/data/finally/models/catboost_text.cbm')\n",
    "catboost_new = CatBoostRegressor()\n",
    "\n",
    "catboost_new.load_model('D:/mashob/data/finally/models/catboost_text.cbm')"
   ]
  },
  {
   "cell_type": "code",
   "execution_count": 169,
   "metadata": {},
   "outputs": [],
   "source": [
    "pool_test = Pool(\n",
    "    data=X_test_text,\n",
    "    text_features=[0]\n",
    ")"
   ]
  },
  {
   "cell_type": "code",
   "execution_count": 174,
   "metadata": {},
   "outputs": [
    {
     "name": "stdout",
     "output_type": "stream",
     "text": [
      "RMSE: 0.2353024\n",
      "R^2: 0.2137780\n"
     ]
    }
   ],
   "source": [
    "rmse_catboost_text, r2_catboost_text = calc_metrics(catboost_new, pool_test, y_test)"
   ]
  },
  {
   "cell_type": "markdown",
   "metadata": {},
   "source": [
    "## Catboost on embeddings: tfidf"
   ]
  },
  {
   "cell_type": "code",
   "execution_count": 175,
   "metadata": {},
   "outputs": [],
   "source": [
    "v = TfidfVectorizer(norm=None, max_df=0.8, max_features=500, decode_error='replace')\n",
    "X_train_vector = v.fit_transform(X_train_text)\n",
    "X_val_vector = v.transform(X_val_text)\n",
    "X_test_vector = v.transform(X_test_text)"
   ]
  },
  {
   "cell_type": "code",
   "execution_count": 176,
   "metadata": {},
   "outputs": [],
   "source": [
    "with open(\"D:/mashob/data/finally/configs/embeddings.yaml\", \"r\") as f:\n",
    "    config = yaml.safe_load(f)"
   ]
  },
  {
   "cell_type": "code",
   "execution_count": 177,
   "metadata": {},
   "outputs": [],
   "source": [
    "catboost_model = CatBoostRegressor(**config)"
   ]
  },
  {
   "cell_type": "code",
   "execution_count": 178,
   "metadata": {},
   "outputs": [
    {
     "name": "stdout",
     "output_type": "stream",
     "text": [
      "0:\tlearn: 0.2663754\ttest: 0.2706432\tbest: 0.2706432 (0)\ttotal: 81.1ms\tremaining: 20m 16s\n",
      "1000:\tlearn: 0.2372125\ttest: 0.2482096\tbest: 0.2482096 (1000)\ttotal: 39.4s\tremaining: 9m 10s\n",
      "2000:\tlearn: 0.2308817\ttest: 0.2460919\tbest: 0.2460878 (1999)\ttotal: 1m 26s\tremaining: 9m 21s\n",
      "3000:\tlearn: 0.2263043\ttest: 0.2454133\tbest: 0.2454133 (3000)\ttotal: 2m 8s\tremaining: 8m 33s\n",
      "4000:\tlearn: 0.2224425\ttest: 0.2449212\tbest: 0.2449177 (3995)\ttotal: 2m 54s\tremaining: 8m\n",
      "5000:\tlearn: 0.2191260\ttest: 0.2446313\tbest: 0.2446242 (4991)\ttotal: 3m 37s\tremaining: 7m 14s\n",
      "6000:\tlearn: 0.2161220\ttest: 0.2444162\tbest: 0.2444162 (6000)\ttotal: 4m 24s\tremaining: 6m 36s\n",
      "7000:\tlearn: 0.2134660\ttest: 0.2443732\tbest: 0.2443526 (6840)\ttotal: 5m 4s\tremaining: 5m 48s\n",
      "8000:\tlearn: 0.2109797\ttest: 0.2442563\tbest: 0.2442548 (7998)\ttotal: 5m 44s\tremaining: 5m 1s\n",
      "9000:\tlearn: 0.2086868\ttest: 0.2442050\tbest: 0.2441905 (8655)\ttotal: 6m 24s\tremaining: 4m 16s\n",
      "10000:\tlearn: 0.2065675\ttest: 0.2441855\tbest: 0.2441736 (9183)\ttotal: 7m 5s\tremaining: 3m 32s\n",
      "11000:\tlearn: 0.2046279\ttest: 0.2442307\tbest: 0.2441674 (10146)\ttotal: 7m 44s\tremaining: 2m 48s\n",
      "12000:\tlearn: 0.2027455\ttest: 0.2442269\tbest: 0.2441674 (10146)\ttotal: 8m 22s\tremaining: 2m 5s\n",
      "13000:\tlearn: 0.2010329\ttest: 0.2443123\tbest: 0.2441674 (10146)\ttotal: 9m 4s\tremaining: 1m 23s\n",
      "14000:\tlearn: 0.1993936\ttest: 0.2443887\tbest: 0.2441674 (10146)\ttotal: 9m 47s\tremaining: 41.9s\n",
      "14999:\tlearn: 0.1978148\ttest: 0.2444003\tbest: 0.2441674 (10146)\ttotal: 10m 24s\tremaining: 0us\n",
      "\n",
      "bestTest = 0.2441673736\n",
      "bestIteration = 10146\n",
      "\n",
      "Shrink model to first 10147 iterations.\n"
     ]
    },
    {
     "data": {
      "text/plain": [
       "<catboost.core.CatBoostRegressor at 0x1c8eabe60e0>"
      ]
     },
     "execution_count": 178,
     "metadata": {},
     "output_type": "execute_result"
    }
   ],
   "source": [
    "catboost_model.fit(X_train_vector, y_train, eval_set=(X_val_vector, y_val), verbose=1000)"
   ]
  },
  {
   "cell_type": "code",
   "execution_count": 179,
   "metadata": {},
   "outputs": [
    {
     "data": {
      "text/plain": [
       "<catboost.core.CatBoostRegressor at 0x1c8eacd2470>"
      ]
     },
     "execution_count": 179,
     "metadata": {},
     "output_type": "execute_result"
    }
   ],
   "source": [
    "catboost_model.save_model('D:/mashob/data/finally/models/catboost_tfidf.cbm')\n",
    "catboost_tfidf = CatBoostRegressor()\n",
    "\n",
    "catboost_tfidf.load_model('D:/mashob/data/finally/models/catboost_tfidf.cbm')"
   ]
  },
  {
   "cell_type": "code",
   "execution_count": 180,
   "metadata": {},
   "outputs": [
    {
     "name": "stdout",
     "output_type": "stream",
     "text": [
      "RMSE: 0.2376420\n",
      "R^2: 0.1980659\n"
     ]
    }
   ],
   "source": [
    "rmse_catboost_tfidf, r2_catboost_tfidf = calc_metrics(catboost_tfidf, X_test_vector, y_test)"
   ]
  },
  {
   "cell_type": "markdown",
   "metadata": {},
   "source": [
    "## Catboost on embeddings: w2v + tfidf"
   ]
  },
  {
   "cell_type": "code",
   "execution_count": 182,
   "metadata": {},
   "outputs": [],
   "source": [
    "w2v_model = Word2Vec(min_count=10, window=2, vector_size=300, negative=10, alpha=0.03, min_alpha=0.0007, sample=6e-5, sg=1)"
   ]
  },
  {
   "cell_type": "code",
   "execution_count": 183,
   "metadata": {},
   "outputs": [],
   "source": [
    "with open(\"D:/mashob/data/finally/stopwords_ru.txt\", \"r\") as file:\n",
    "    stop_words = [line.strip() for line in file.readlines()] + ['тот', 'который', 'которая']"
   ]
  },
  {
   "cell_type": "code",
   "execution_count": 184,
   "metadata": {},
   "outputs": [],
   "source": [
    "def get_vocab(text: pd.core.series.Series) -> list:\n",
    "    words = re.findall(r'\\w+', text.lower())\n",
    "    filtered_words = [word for word in words if not re.match(r'^[a-zA-Z]+$', word) and word not in stop_words]\n",
    "    return filtered_words"
   ]
  },
  {
   "cell_type": "code",
   "execution_count": 185,
   "metadata": {},
   "outputs": [],
   "source": [
    "train_words = train_data.text_markdown.apply(get_vocab)\n",
    "val_words = val_data.text_markdown.apply(get_vocab)\n",
    "test_words = test_data.text_markdown.apply(get_vocab)"
   ]
  },
  {
   "cell_type": "code",
   "execution_count": 186,
   "metadata": {},
   "outputs": [
    {
     "data": {
      "text/plain": [
       "7        [аня, волос, нос, расти, петя, аня, жопа, расс...\n",
       "11       [родственница, жаловаться, дурдом, трудиться, ...\n",
       "15       [добрый, сутки, господин, дама, подсказывать, ...\n",
       "23       [негр, ходить, больница, читать, рэп, едит, ин...\n",
       "37       [ехать, довезти, девчонка, школа, оставаться, ...\n",
       "                               ...                        \n",
       "22982                          [неужели, плохо, дискотека]\n",
       "22983    [ставить, копейка, обида, школьный, учитель, т...\n",
       "22986    [слушать, история, клиент, магазин, модный, од...\n",
       "22987    [интернет, проходить, конкурс, машинный, обуче...\n",
       "22998    [слышать, мероприятие, название, одесса, прохо...\n",
       "Name: text_markdown, Length: 55079, dtype: object"
      ]
     },
     "execution_count": 186,
     "metadata": {},
     "output_type": "execute_result"
    }
   ],
   "source": [
    "train_words"
   ]
  },
  {
   "cell_type": "code",
   "execution_count": 187,
   "metadata": {},
   "outputs": [],
   "source": [
    "w2v_model.build_vocab(train_words)"
   ]
  },
  {
   "cell_type": "code",
   "execution_count": 188,
   "metadata": {},
   "outputs": [
    {
     "data": {
      "text/plain": [
       "(116124293, 158063610)"
      ]
     },
     "execution_count": 188,
     "metadata": {},
     "output_type": "execute_result"
    }
   ],
   "source": [
    "w2v_model.train(train_words, total_examples=w2v_model.corpus_count, epochs=30, report_delay=1)"
   ]
  },
  {
   "cell_type": "code",
   "execution_count": 189,
   "metadata": {},
   "outputs": [
    {
     "data": {
      "text/plain": [
       "[('идеология', 0.4198024272918701),\n",
       " ('государство', 0.41625142097473145),\n",
       " ('фискальный', 0.4047982096672058),\n",
       " ('украина', 0.39585280418395996),\n",
       " ('еврейство', 0.3953686058521271),\n",
       " ('экономика', 0.3941681385040283),\n",
       " ('президент', 0.38690540194511414),\n",
       " ('антиконституционный', 0.38510265946388245),\n",
       " ('верховенство', 0.3723835051059723),\n",
       " ('федеративный', 0.3719206154346466)]"
      ]
     },
     "execution_count": 189,
     "metadata": {},
     "output_type": "execute_result"
    }
   ],
   "source": [
    "w2v_model.wv.most_similar(positive=[\"политика\"])"
   ]
  },
  {
   "cell_type": "code",
   "execution_count": 190,
   "metadata": {},
   "outputs": [],
   "source": [
    "w2v = dict(zip(w2v_model.wv.index_to_key, w2v_model.wv))"
   ]
  },
  {
   "cell_type": "code",
   "execution_count": 191,
   "metadata": {},
   "outputs": [],
   "source": [
    "class tfidf_vectorizer(object):\n",
    "    def __init__(self, word2vec):\n",
    "        self.word2vec = word2vec\n",
    "        self.word2weight = None\n",
    "        self.dim = len(next(iter(w2v.values())))\n",
    "\n",
    "    def fit(self, X):\n",
    "        tfidf = TfidfVectorizer(analyzer=lambda x: x)\n",
    "        tfidf.fit(X)\n",
    "        max_idf = max(tfidf.idf_)\n",
    "        self.word2weight = defaultdict(\n",
    "            lambda: max_idf,\n",
    "            [(w, tfidf.idf_[i]) for w, i in tfidf.vocabulary_.items()])\n",
    "\n",
    "        return self\n",
    "\n",
    "    def transform(self, X):\n",
    "        return np.array([\n",
    "                np.mean([self.word2vec[w] * self.word2weight[w]\n",
    "                         for w in words if w in self.word2vec] or\n",
    "                        [np.zeros(self.dim)], axis=0)\n",
    "                for words in X\n",
    "            ])"
   ]
  },
  {
   "cell_type": "code",
   "execution_count": 192,
   "metadata": {},
   "outputs": [],
   "source": [
    "train_w2v = tfidf_vectorizer(w2v).fit(train_words).transform(train_words)\n",
    "val_w2v = tfidf_vectorizer(w2v).fit(val_words).transform(val_words)\n",
    "test_w2v = tfidf_vectorizer(w2v).fit(test_words).transform(test_words)"
   ]
  },
  {
   "cell_type": "code",
   "execution_count": 193,
   "metadata": {},
   "outputs": [
    {
     "data": {
      "text/plain": [
       "True"
      ]
     },
     "execution_count": 193,
     "metadata": {},
     "output_type": "execute_result"
    }
   ],
   "source": [
    "train_w2v.shape[0] + val_w2v.shape[0] + test_w2v.shape[0] == len(df.text_markdown)"
   ]
  },
  {
   "cell_type": "code",
   "execution_count": 195,
   "metadata": {},
   "outputs": [],
   "source": [
    "catboost_model = CatBoostRegressor(**config_for_embedding_data)"
   ]
  },
  {
   "cell_type": "code",
   "execution_count": 196,
   "metadata": {},
   "outputs": [
    {
     "name": "stdout",
     "output_type": "stream",
     "text": [
      "0:\tlearn: 0.2665078\ttest: 0.2707271\tbest: 0.2707271 (0)\ttotal: 112ms\tremaining: 27m 53s\n",
      "1000:\tlearn: 0.2315876\ttest: 0.2428986\tbest: 0.2428964 (999)\ttotal: 1m 8s\tremaining: 16m 3s\n",
      "2000:\tlearn: 0.2234011\ttest: 0.2413181\tbest: 0.2413116 (1999)\ttotal: 2m 31s\tremaining: 16m 26s\n",
      "3000:\tlearn: 0.2163662\ttest: 0.2403735\tbest: 0.2403735 (3000)\ttotal: 3m 49s\tremaining: 15m 18s\n",
      "4000:\tlearn: 0.2100742\ttest: 0.2398238\tbest: 0.2398213 (3999)\ttotal: 5m 5s\tremaining: 13m 59s\n",
      "5000:\tlearn: 0.2041504\ttest: 0.2394083\tbest: 0.2393978 (4990)\ttotal: 6m 19s\tremaining: 12m 38s\n",
      "6000:\tlearn: 0.1986777\ttest: 0.2391656\tbest: 0.2391549 (5945)\ttotal: 7m 30s\tremaining: 11m 15s\n",
      "7000:\tlearn: 0.1934250\ttest: 0.2390240\tbest: 0.2389988 (6960)\ttotal: 8m 42s\tremaining: 9m 56s\n",
      "8000:\tlearn: 0.1884328\ttest: 0.2389584\tbest: 0.2389289 (7683)\ttotal: 9m 52s\tremaining: 8m 38s\n",
      "9000:\tlearn: 0.1836621\ttest: 0.2389389\tbest: 0.2389233 (8437)\ttotal: 11m 2s\tremaining: 7m 21s\n",
      "10000:\tlearn: 0.1791326\ttest: 0.2388998\tbest: 0.2388722 (9873)\ttotal: 12m 13s\tremaining: 6m 6s\n",
      "11000:\tlearn: 0.1748186\ttest: 0.2389264\tbest: 0.2388666 (10074)\ttotal: 13m 19s\tremaining: 4m 50s\n",
      "12000:\tlearn: 0.1706786\ttest: 0.2388748\tbest: 0.2388369 (11649)\ttotal: 14m 26s\tremaining: 3m 36s\n",
      "13000:\tlearn: 0.1666884\ttest: 0.2389203\tbest: 0.2388369 (11649)\ttotal: 15m 30s\tremaining: 2m 23s\n",
      "14000:\tlearn: 0.1628371\ttest: 0.2388469\tbest: 0.2388363 (13904)\ttotal: 16m 33s\tremaining: 1m 10s\n",
      "14999:\tlearn: 0.1591062\ttest: 0.2388587\tbest: 0.2388179 (14325)\ttotal: 17m 38s\tremaining: 0us\n",
      "\n",
      "bestTest = 0.2388179124\n",
      "bestIteration = 14325\n",
      "\n",
      "Shrink model to first 14326 iterations.\n"
     ]
    },
    {
     "data": {
      "text/plain": [
       "<catboost.core.CatBoostRegressor at 0x1c8ead04b80>"
      ]
     },
     "execution_count": 196,
     "metadata": {},
     "output_type": "execute_result"
    }
   ],
   "source": [
    "catboost_model.fit(train_w2v, y_train, eval_set=(val_w2v, y_val), verbose=1000)"
   ]
  },
  {
   "cell_type": "code",
   "execution_count": 199,
   "metadata": {},
   "outputs": [
    {
     "data": {
      "text/plain": [
       "<catboost.core.CatBoostRegressor at 0x1c8ead040a0>"
      ]
     },
     "execution_count": 199,
     "metadata": {},
     "output_type": "execute_result"
    }
   ],
   "source": [
    "catboost_model.save_model('D:/mashob/data/finally/models/catboost_w2v_tfidf.cbm')\n",
    "catboost_w2v_tfidf = CatBoostRegressor()\n",
    "\n",
    "catboost_w2v_tfidf.load_model('D:/mashob/data/finally/models/catboost_w2v_tfidf.cbm')"
   ]
  },
  {
   "cell_type": "code",
   "execution_count": 200,
   "metadata": {},
   "outputs": [
    {
     "name": "stdout",
     "output_type": "stream",
     "text": [
      "RMSE: 0.2342041\n",
      "R^2: 0.2211007\n"
     ]
    }
   ],
   "source": [
    "rmse_catboost_w2v_tfidf, r2_catboost_w2v_tfidf = calc_metrics(catboost_w2v_tfidf, test_w2v, y_test)"
   ]
  },
  {
   "cell_type": "markdown",
   "metadata": {},
   "source": [
    "# Catboost on embeddings: rubert-tiny"
   ]
  },
  {
   "cell_type": "markdown",
   "metadata": {},
   "source": [
    "### We have datasets: rubert, tuned rubert and for each of them two more datasets with a title added to the text."
   ]
  },
  {
   "cell_type": "markdown",
   "metadata": {},
   "source": [
    "1. Split id on train, val and test from file"
   ]
  },
  {
   "cell_type": "code",
   "execution_count": 246,
   "metadata": {},
   "outputs": [],
   "source": [
    "with open('D:/mashob/data/finally/indexes.json', 'r') as idx_file:   \n",
    "    idx_data = json.load(idx_file) \n",
    "\n",
    "train_indexes = idx_data['train']\n",
    "val_indexes = idx_data['val']\n",
    "test_indexes = idx_data['test']"
   ]
  },
  {
   "cell_type": "code",
   "execution_count": 247,
   "metadata": {},
   "outputs": [],
   "source": [
    "def create_matrix_embedding(df: pd.DataFrame):\n",
    "    embedding = np.vstack(df['embedding'].values)\n",
    "    return embedding"
   ]
  },
  {
   "cell_type": "markdown",
   "metadata": {},
   "source": [
    "2. Create function for prepare data. Add to data the calculated rating by wilson score from original datasets. <br> Split data on train, val and test by id. Create matrix embedding and return ready data."
   ]
  },
  {
   "cell_type": "code",
   "execution_count": 248,
   "metadata": {},
   "outputs": [],
   "source": [
    "def prepare_data(name_file):\n",
    "\n",
    "    df_rubert = pq.read_table(source=f'D:/mashob/data/finally/{name_file}.parquet').to_pandas()\n",
    "    print(df_rubert.head(3))\n",
    "\n",
    "    df_rubert = df_rubert.merge(df[['id', 'rating']], on='id', how='inner')\n",
    "\n",
    "    train_data_rubert = df_rubert[df_rubert['id'].isin(train_indexes)]\n",
    "    val_data_rubert = df_rubert[df_rubert['id'].isin(val_indexes)]\n",
    "    test_data_rubert = df_rubert[df_rubert['id'].isin(test_indexes)]\n",
    "\n",
    "    if len(train_data_rubert) + len(val_data_rubert) + len(test_data_rubert) == len(df_rubert):\n",
    "\n",
    "        X_train = create_matrix_embedding(train_data_rubert)\n",
    "        X_val = create_matrix_embedding(val_data_rubert)\n",
    "        X_test = create_matrix_embedding(test_data_rubert)\n",
    "\n",
    "        y_train = train_data_rubert.rating.values\n",
    "        y_val = val_data_rubert.rating.values\n",
    "        y_test = test_data_rubert.rating.values\n",
    "        \n",
    "    return X_train, X_val, X_test, y_train, y_val, y_test"
   ]
  },
  {
   "cell_type": "markdown",
   "metadata": {},
   "source": [
    "3. Use function for prepare data"
   ]
  },
  {
   "cell_type": "code",
   "execution_count": 249,
   "metadata": {},
   "outputs": [
    {
     "name": "stdout",
     "output_type": "stream",
     "text": [
      "        id                                          embedding\n",
      "0  2936217  [0.3411005, -0.16877297, -0.3599054, 0.0115052...\n",
      "1  6991412  [0.3696494, 0.06409113, -0.62138826, -0.890618...\n",
      "2  6991359  [0.3278318, 0.08586374, -0.7452521, -0.2529353...\n"
     ]
    }
   ],
   "source": [
    "X_train, X_val, X_test, y_train, y_val, y_test = prepare_data('texts')"
   ]
  },
  {
   "cell_type": "markdown",
   "metadata": {},
   "source": [
    "4. Train model"
   ]
  },
  {
   "cell_type": "code",
   "execution_count": 229,
   "metadata": {},
   "outputs": [
    {
     "name": "stdout",
     "output_type": "stream",
     "text": [
      "0:\tlearn: 0.2662915\ttest: 0.2705101\tbest: 0.2705101 (0)\ttotal: 206ms\tremaining: 44m 35s\n",
      "1000:\tlearn: 0.2281858\ttest: 0.2385403\tbest: 0.2385403 (1000)\ttotal: 1m 11s\tremaining: 14m 11s\n",
      "2000:\tlearn: 0.2200993\ttest: 0.2361675\tbest: 0.2361674 (1999)\ttotal: 2m 17s\tremaining: 12m 33s\n",
      "3000:\tlearn: 0.2134371\ttest: 0.2350909\tbest: 0.2350909 (3000)\ttotal: 3m 24s\tremaining: 11m 22s\n",
      "4000:\tlearn: 0.2073882\ttest: 0.2344464\tbest: 0.2344433 (3998)\ttotal: 4m 29s\tremaining: 10m 7s\n",
      "5000:\tlearn: 0.2016515\ttest: 0.2339888\tbest: 0.2339789 (4978)\ttotal: 5m 31s\tremaining: 8m 50s\n",
      "6000:\tlearn: 0.1963580\ttest: 0.2337940\tbest: 0.2337940 (6000)\ttotal: 6m 32s\tremaining: 7m 38s\n",
      "7000:\tlearn: 0.1913657\ttest: 0.2336992\tbest: 0.2336713 (6917)\ttotal: 7m 33s\tremaining: 6m 28s\n",
      "8000:\tlearn: 0.1865756\ttest: 0.2336528\tbest: 0.2336234 (7840)\ttotal: 8m 35s\tremaining: 5m 22s\n",
      "9000:\tlearn: 0.1820150\ttest: 0.2335520\tbest: 0.2335441 (8746)\ttotal: 9m 39s\tremaining: 4m 17s\n",
      "10000:\tlearn: 0.1776425\ttest: 0.2334987\tbest: 0.2334979 (9998)\ttotal: 10m 42s\tremaining: 3m 12s\n",
      "11000:\tlearn: 0.1734811\ttest: 0.2334037\tbest: 0.2334014 (10980)\ttotal: 11m 46s\tremaining: 2m 8s\n",
      "12000:\tlearn: 0.1694866\ttest: 0.2333518\tbest: 0.2333282 (11791)\ttotal: 12m 52s\tremaining: 1m 4s\n",
      "12999:\tlearn: 0.1655819\ttest: 0.2333591\tbest: 0.2333282 (11791)\ttotal: 13m 54s\tremaining: 0us\n",
      "\n",
      "bestTest = 0.2333281583\n",
      "bestIteration = 11791\n",
      "\n",
      "Shrink model to first 11792 iterations.\n"
     ]
    },
    {
     "data": {
      "text/plain": [
       "<catboost.core.CatBoostRegressor at 0x1c8eabe6410>"
      ]
     },
     "execution_count": 229,
     "metadata": {},
     "output_type": "execute_result"
    }
   ],
   "source": [
    "catboost_model = CatBoostRegressor(**config_for_rubert_data)\n",
    "catboost_model.fit(X_train, y_train, eval_set=(X_val, y_val), verbose=1000)"
   ]
  },
  {
   "cell_type": "markdown",
   "metadata": {},
   "source": [
    "5. Save model"
   ]
  },
  {
   "cell_type": "code",
   "execution_count": 293,
   "metadata": {},
   "outputs": [
    {
     "data": {
      "text/plain": [
       "<catboost.core.CatBoostRegressor at 0x1c8b6e53b20>"
      ]
     },
     "execution_count": 293,
     "metadata": {},
     "output_type": "execute_result"
    }
   ],
   "source": [
    "catboost_model.save_model('D:/mashob/data/finally/catboost_rubert.cbm')\n",
    "catboost_rubert = CatBoostRegressor()\n",
    "\n",
    "catboost_rubert.load_model('D:/mashob/data/finally/catboost_rubert.cbm')"
   ]
  },
  {
   "cell_type": "markdown",
   "metadata": {},
   "source": [
    "6. Calculate RMSE and $R^2$"
   ]
  },
  {
   "cell_type": "code",
   "execution_count": 234,
   "metadata": {},
   "outputs": [
    {
     "name": "stdout",
     "output_type": "stream",
     "text": [
      "RMSE: 0.2296836\n",
      "R^2: 0.2508781\n"
     ]
    }
   ],
   "source": [
    "rmse_catboost_rubert, r2_catboost_rubert = calc_metrics(catboost_rubert, X_test, y_test)"
   ]
  },
  {
   "cell_type": "markdown",
   "metadata": {},
   "source": [
    "7. Use model for tuned rubert with added title to text"
   ]
  },
  {
   "cell_type": "code",
   "execution_count": 277,
   "metadata": {},
   "outputs": [
    {
     "name": "stdout",
     "output_type": "stream",
     "text": [
      "        id                                          embedding\n",
      "0  2936217  [0.3378186, -0.19202456, -0.37366503, -0.01451...\n",
      "1  6991412  [0.3538596, 0.044930458, -0.6553651, -0.905943...\n",
      "2  6991359  [0.41649202, 0.07350595, -0.55431473, -0.29970...\n"
     ]
    }
   ],
   "source": [
    "X_train, X_val, X_test, y_train, y_val, y_test = prepare_data('tuned_texts')"
   ]
  },
  {
   "cell_type": "code",
   "execution_count": 256,
   "metadata": {},
   "outputs": [
    {
     "name": "stdout",
     "output_type": "stream",
     "text": [
      "0:\tlearn: 0.2662134\ttest: 0.2704728\tbest: 0.2704728 (0)\ttotal: 264ms\tremaining: 1h 27m 53s\n",
      "1000:\tlearn: 0.2279798\ttest: 0.2380441\tbest: 0.2380441 (1000)\ttotal: 1m 6s\tremaining: 21m 7s\n",
      "2000:\tlearn: 0.2197308\ttest: 0.2355799\tbest: 0.2355766 (1999)\ttotal: 2m 8s\tremaining: 19m 15s\n",
      "3000:\tlearn: 0.2129202\ttest: 0.2345093\tbest: 0.2345076 (2997)\ttotal: 3m 18s\tremaining: 18m 45s\n",
      "4000:\tlearn: 0.2068642\ttest: 0.2337031\tbest: 0.2337014 (3999)\ttotal: 4m 27s\tremaining: 17m 50s\n",
      "5000:\tlearn: 0.2012236\ttest: 0.2331414\tbest: 0.2331377 (4994)\ttotal: 5m 38s\tremaining: 16m 55s\n",
      "6000:\tlearn: 0.1958673\ttest: 0.2327187\tbest: 0.2327161 (5997)\ttotal: 6m 45s\tremaining: 15m 44s\n",
      "7000:\tlearn: 0.1908673\ttest: 0.2324538\tbest: 0.2324505 (6979)\ttotal: 7m 50s\tremaining: 14m 34s\n",
      "8000:\tlearn: 0.1860441\ttest: 0.2322340\tbest: 0.2322295 (7986)\ttotal: 8m 55s\tremaining: 13m 23s\n",
      "9000:\tlearn: 0.1813579\ttest: 0.2320645\tbest: 0.2320569 (8949)\ttotal: 10m 4s\tremaining: 12m 18s\n",
      "10000:\tlearn: 0.1769201\ttest: 0.2319746\tbest: 0.2319488 (9969)\ttotal: 11m 7s\tremaining: 11m 7s\n",
      "11000:\tlearn: 0.1726588\ttest: 0.2319018\tbest: 0.2318901 (10746)\ttotal: 12m 22s\tremaining: 10m 7s\n",
      "12000:\tlearn: 0.1685498\ttest: 0.2318194\tbest: 0.2318194 (12000)\ttotal: 13m 34s\tremaining: 9m 2s\n",
      "13000:\tlearn: 0.1646249\ttest: 0.2317287\tbest: 0.2317236 (12957)\ttotal: 14m 47s\tremaining: 7m 57s\n",
      "14000:\tlearn: 0.1607940\ttest: 0.2317387\tbest: 0.2317152 (13159)\ttotal: 16m 1s\tremaining: 6m 52s\n",
      "15000:\tlearn: 0.1570450\ttest: 0.2316903\tbest: 0.2316447 (14807)\ttotal: 17m 16s\tremaining: 5m 45s\n",
      "16000:\tlearn: 0.1534148\ttest: 0.2317103\tbest: 0.2316447 (14807)\ttotal: 18m 31s\tremaining: 4m 37s\n",
      "17000:\tlearn: 0.1499253\ttest: 0.2317373\tbest: 0.2316447 (14807)\ttotal: 19m 46s\tremaining: 3m 29s\n",
      "18000:\tlearn: 0.1464735\ttest: 0.2316705\tbest: 0.2316447 (14807)\ttotal: 21m 5s\tremaining: 2m 20s\n",
      "19000:\tlearn: 0.1432173\ttest: 0.2316737\tbest: 0.2316346 (18632)\ttotal: 22m 14s\tremaining: 1m 10s\n",
      "19999:\tlearn: 0.1400701\ttest: 0.2316994\tbest: 0.2316346 (18632)\ttotal: 23m 20s\tremaining: 0us\n",
      "\n",
      "bestTest = 0.2316346381\n",
      "bestIteration = 18632\n",
      "\n",
      "Shrink model to first 18633 iterations.\n"
     ]
    },
    {
     "data": {
      "text/plain": [
       "<catboost.core.CatBoostRegressor at 0x1c8b6e534c0>"
      ]
     },
     "execution_count": 256,
     "metadata": {},
     "output_type": "execute_result"
    }
   ],
   "source": [
    "catboost_model = CatBoostRegressor(**config_for_rubert_tun_data)\n",
    "catboost_model.fit(X_train, y_train, eval_set=(X_val, y_val), verbose=1000)"
   ]
  },
  {
   "cell_type": "code",
   "execution_count": 281,
   "metadata": {},
   "outputs": [],
   "source": [
    "catboost_model.save_model('D:/mashob/data/finally/models/catboost_rubert_tuned_title.cbm')"
   ]
  },
  {
   "cell_type": "code",
   "execution_count": 285,
   "metadata": {},
   "outputs": [
    {
     "data": {
      "text/plain": [
       "<catboost.core.CatBoostRegressor at 0x1c8b6e538e0>"
      ]
     },
     "execution_count": 285,
     "metadata": {},
     "output_type": "execute_result"
    }
   ],
   "source": [
    "catboost_rubert_tuned_title = CatBoostRegressor()\n",
    "\n",
    "catboost_rubert_tuned_title.load_model('D:/mashob/data/finally/models/catboost_rubert_tuned_title.cbm')"
   ]
  },
  {
   "cell_type": "code",
   "execution_count": 286,
   "metadata": {},
   "outputs": [
    {
     "name": "stdout",
     "output_type": "stream",
     "text": [
      "RMSE: 0.2293415\n",
      "R^2: 0.2531083\n"
     ]
    }
   ],
   "source": [
    "rmse_catboost_rubert_tuned_title, r2_catboost_rubert_tuned_title = calc_metrics(catboost_rubert_tuned_title, X_test, y_test)"
   ]
  },
  {
   "cell_type": "markdown",
   "metadata": {},
   "source": [
    "8. Use model for rubert with added title to text"
   ]
  },
  {
   "cell_type": "code",
   "execution_count": 262,
   "metadata": {},
   "outputs": [
    {
     "name": "stdout",
     "output_type": "stream",
     "text": [
      "        id                                          embedding\n",
      "0  2936217  [0.3378186, -0.19202456, -0.37366503, -0.01451...\n",
      "1  6991412  [0.3538596, 0.044930458, -0.6553651, -0.905943...\n",
      "2  6991359  [0.41649202, 0.07350595, -0.55431473, -0.29970...\n"
     ]
    }
   ],
   "source": [
    "X_train, X_val, X_test, y_train, y_val, y_test = prepare_data('with_title_texts')"
   ]
  },
  {
   "cell_type": "code",
   "execution_count": 263,
   "metadata": {},
   "outputs": [
    {
     "name": "stdout",
     "output_type": "stream",
     "text": [
      "0:\tlearn: 0.2662134\ttest: 0.2704728\tbest: 0.2704728 (0)\ttotal: 215ms\tremaining: 46m 29s\n",
      "1000:\tlearn: 0.2279798\ttest: 0.2380441\tbest: 0.2380441 (1000)\ttotal: 1m 12s\tremaining: 14m 34s\n",
      "2000:\tlearn: 0.2197308\ttest: 0.2355799\tbest: 0.2355766 (1999)\ttotal: 2m 31s\tremaining: 13m 50s\n",
      "3000:\tlearn: 0.2129202\ttest: 0.2345093\tbest: 0.2345076 (2997)\ttotal: 3m 40s\tremaining: 12m 15s\n",
      "4000:\tlearn: 0.2068642\ttest: 0.2337031\tbest: 0.2337014 (3999)\ttotal: 4m 51s\tremaining: 10m 55s\n",
      "5000:\tlearn: 0.2012236\ttest: 0.2331414\tbest: 0.2331377 (4994)\ttotal: 6m 4s\tremaining: 9m 43s\n",
      "6000:\tlearn: 0.1958673\ttest: 0.2327187\tbest: 0.2327161 (5997)\ttotal: 7m 18s\tremaining: 8m 31s\n",
      "7000:\tlearn: 0.1908673\ttest: 0.2324538\tbest: 0.2324505 (6979)\ttotal: 8m 31s\tremaining: 7m 17s\n",
      "8000:\tlearn: 0.1860441\ttest: 0.2322340\tbest: 0.2322295 (7986)\ttotal: 9m 52s\tremaining: 6m 10s\n",
      "9000:\tlearn: 0.1813579\ttest: 0.2320645\tbest: 0.2320569 (8949)\ttotal: 11m 12s\tremaining: 4m 58s\n",
      "10000:\tlearn: 0.1769201\ttest: 0.2319746\tbest: 0.2319488 (9969)\ttotal: 12m 34s\tremaining: 3m 46s\n",
      "11000:\tlearn: 0.1726588\ttest: 0.2319018\tbest: 0.2318901 (10746)\ttotal: 13m 54s\tremaining: 2m 31s\n",
      "12000:\tlearn: 0.1685498\ttest: 0.2318194\tbest: 0.2318194 (12000)\ttotal: 15m 13s\tremaining: 1m 16s\n",
      "12999:\tlearn: 0.1646290\ttest: 0.2317295\tbest: 0.2317236 (12957)\ttotal: 16m 35s\tremaining: 0us\n",
      "\n",
      "bestTest = 0.2317235858\n",
      "bestIteration = 12957\n",
      "\n",
      "Shrink model to first 12958 iterations.\n"
     ]
    },
    {
     "data": {
      "text/plain": [
       "<catboost.core.CatBoostRegressor at 0x1c8b6e510c0>"
      ]
     },
     "execution_count": 263,
     "metadata": {},
     "output_type": "execute_result"
    }
   ],
   "source": [
    "catboost_model = CatBoostRegressor(**config_for_rubert_data)\n",
    "catboost_model.fit(X_train, y_train, eval_set=(X_val, y_val), verbose=1000)"
   ]
  },
  {
   "cell_type": "code",
   "execution_count": 264,
   "metadata": {},
   "outputs": [],
   "source": [
    "catboost_model.save_model('D:/mashob/data/finally/models/catboost_rubert_title.cbm')"
   ]
  },
  {
   "cell_type": "code",
   "execution_count": 265,
   "metadata": {},
   "outputs": [
    {
     "data": {
      "text/plain": [
       "<catboost.core.CatBoostRegressor at 0x1c8b6e501c0>"
      ]
     },
     "execution_count": 265,
     "metadata": {},
     "output_type": "execute_result"
    }
   ],
   "source": [
    "catboost_rubert_title = CatBoostRegressor()\n",
    "\n",
    "catboost_rubert_title.load_model('D:/mashob/data/finally/models/catboost_rubert_title.cbm')"
   ]
  },
  {
   "cell_type": "code",
   "execution_count": 266,
   "metadata": {},
   "outputs": [
    {
     "name": "stdout",
     "output_type": "stream",
     "text": [
      "RMSE: 0.2292746\n",
      "R^2: 0.2535439\n"
     ]
    }
   ],
   "source": [
    "rmse_catboost_rubert_title, r2_catboost_rubert_title = calc_metrics(catboost_rubert_title, X_test, y_test)"
   ]
  },
  {
   "cell_type": "markdown",
   "metadata": {},
   "source": [
    "9. Use model for tuned rubert"
   ]
  },
  {
   "cell_type": "code",
   "execution_count": 290,
   "metadata": {},
   "outputs": [
    {
     "name": "stdout",
     "output_type": "stream",
     "text": [
      "        id                                          embedding\n",
      "0  2936217  [0.3411005, -0.16877297, -0.3599054, 0.0115052...\n",
      "1  6991412  [0.3696494, 0.06409113, -0.62138826, -0.890618...\n",
      "2  6991359  [0.3278318, 0.08586374, -0.7452521, -0.2529353...\n"
     ]
    }
   ],
   "source": [
    "X_train, X_val, X_test, y_train, y_val, y_test = prepare_data('no_title_tuned_texts')"
   ]
  },
  {
   "cell_type": "code",
   "execution_count": 270,
   "metadata": {},
   "outputs": [
    {
     "name": "stdout",
     "output_type": "stream",
     "text": [
      "0:\tlearn: 0.2662915\ttest: 0.2705101\tbest: 0.2705101 (0)\ttotal: 176ms\tremaining: 1h 27m 55s\n",
      "2000:\tlearn: 0.2200993\ttest: 0.2361675\tbest: 0.2361674 (1999)\ttotal: 2m 14s\tremaining: 31m 15s\n",
      "4000:\tlearn: 0.2073882\ttest: 0.2344464\tbest: 0.2344433 (3998)\ttotal: 4m 35s\tremaining: 29m 46s\n",
      "6000:\tlearn: 0.1963580\ttest: 0.2337940\tbest: 0.2337940 (6000)\ttotal: 7m 1s\tremaining: 28m 4s\n",
      "8000:\tlearn: 0.1865756\ttest: 0.2336528\tbest: 0.2336234 (7840)\ttotal: 9m 16s\tremaining: 25m 31s\n",
      "10000:\tlearn: 0.1776425\ttest: 0.2334987\tbest: 0.2334979 (9998)\ttotal: 11m 28s\tremaining: 22m 55s\n",
      "12000:\tlearn: 0.1694866\ttest: 0.2333518\tbest: 0.2333282 (11791)\ttotal: 13m 38s\tremaining: 20m 27s\n",
      "14000:\tlearn: 0.1618630\ttest: 0.2333874\tbest: 0.2333220 (13664)\ttotal: 15m 58s\tremaining: 18m 15s\n",
      "16000:\tlearn: 0.1546864\ttest: 0.2333165\tbest: 0.2332670 (15226)\ttotal: 18m 5s\tremaining: 15m 49s\n",
      "18000:\tlearn: 0.1480618\ttest: 0.2333018\tbest: 0.2332487 (17262)\ttotal: 20m 10s\tremaining: 13m 26s\n",
      "20000:\tlearn: 0.1418139\ttest: 0.2333714\tbest: 0.2332487 (17262)\ttotal: 22m 14s\tremaining: 11m 6s\n",
      "22000:\tlearn: 0.1359287\ttest: 0.2334472\tbest: 0.2332487 (17262)\ttotal: 24m 27s\tremaining: 8m 53s\n",
      "24000:\tlearn: 0.1304581\ttest: 0.2335165\tbest: 0.2332487 (17262)\ttotal: 26m 39s\tremaining: 6m 39s\n",
      "26000:\tlearn: 0.1252214\ttest: 0.2336208\tbest: 0.2332487 (17262)\ttotal: 28m 52s\tremaining: 4m 26s\n",
      "28000:\tlearn: 0.1203270\ttest: 0.2337852\tbest: 0.2332487 (17262)\ttotal: 31m 1s\tremaining: 2m 12s\n",
      "29999:\tlearn: 0.1157088\ttest: 0.2338907\tbest: 0.2332487 (17262)\ttotal: 33m 6s\tremaining: 0us\n",
      "\n",
      "bestTest = 0.2332487349\n",
      "bestIteration = 17262\n",
      "\n",
      "Shrink model to first 17263 iterations.\n"
     ]
    },
    {
     "data": {
      "text/plain": [
       "<catboost.core.CatBoostRegressor at 0x1c8ead049d0>"
      ]
     },
     "execution_count": 270,
     "metadata": {},
     "output_type": "execute_result"
    }
   ],
   "source": [
    "catboost_model = CatBoostRegressor(**config_for_rubert_tun_data)\n",
    "catboost_model.fit(X_train, y_train, eval_set=(X_val, y_val), verbose=2000)"
   ]
  },
  {
   "cell_type": "code",
   "execution_count": 271,
   "metadata": {},
   "outputs": [],
   "source": [
    "catboost_model.save_model('D:/mashob/data/finally/models/catboost_rubert_tuned.cbm')"
   ]
  },
  {
   "cell_type": "code",
   "execution_count": 291,
   "metadata": {},
   "outputs": [
    {
     "data": {
      "text/plain": [
       "<catboost.core.CatBoostRegressor at 0x1c8b6e51a80>"
      ]
     },
     "execution_count": 291,
     "metadata": {},
     "output_type": "execute_result"
    }
   ],
   "source": [
    "catboost_rubert_tuned = CatBoostRegressor()\n",
    "\n",
    "catboost_rubert_tuned.load_model('D:/mashob/data/finally/models/catboost_rubert_tuned.cbm')"
   ]
  },
  {
   "cell_type": "code",
   "execution_count": 273,
   "metadata": {},
   "outputs": [
    {
     "name": "stdout",
     "output_type": "stream",
     "text": [
      "RMSE: 0.2299721\n",
      "R^2: 0.2489953\n"
     ]
    }
   ],
   "source": [
    "rmse_catboost_rubert_tuned, r2_catboost_rubert_tuned = calc_metrics(catboost_rubert_tuned, X_test, y_test)"
   ]
  },
  {
   "cell_type": "markdown",
   "metadata": {},
   "source": [
    "## $R^2$"
   ]
  },
  {
   "cell_type": "code",
   "execution_count": 287,
   "metadata": {},
   "outputs": [
    {
     "name": "stdout",
     "output_type": "stream",
     "text": [
      "                             RMSE       R^2\n",
      "text                     0.235302  0.213778\n",
      "tfidf                    0.237642  0.198066\n",
      "w2v + tfidf              0.229811  0.250045\n",
      "rubert                   0.229684  0.250878\n",
      "rubert with title        0.229275  0.253544\n",
      "tuned rubert             0.229972  0.248995\n",
      "tuned rubert with title  0.229341  0.253108\n"
     ]
    }
   ],
   "source": [
    "index = ['text', 'tfidf', 'w2v + tfidf', 'rubert', 'rubert with title', 'tuned rubert', 'tuned rubert with title']\n",
    "data_table = {'RMSE': [rmse_catboost_text, rmse_catboost_tfidf, rmse_catboost_w2v_tfidf, rmse_catboost_rubert, rmse_catboost_rubert_title, rmse_catboost_rubert_tuned, rmse_catboost_rubert_tuned_title],\n",
    "              'R^2': [r2_catboost_text, r2_catboost_tfidf, r2_catboost_w2v_tfidf, r2_catboost_rubert, r2_catboost_rubert_title, r2_catboost_rubert_tuned, r2_catboost_rubert_tuned_title]}\n",
    "\n",
    "df_metrics = pd.DataFrame(data_table, index=index)\n",
    "print(df_metrics)"
   ]
  }
 ],
 "metadata": {
  "kernelspec": {
   "display_name": "env-mashu",
   "language": "python",
   "name": "python3"
  },
  "language_info": {
   "codemirror_mode": {
    "name": "ipython",
    "version": 3
   },
   "file_extension": ".py",
   "mimetype": "text/x-python",
   "name": "python",
   "nbconvert_exporter": "python",
   "pygments_lexer": "ipython3",
   "version": "3.10.13"
  }
 },
 "nbformat": 4,
 "nbformat_minor": 2
}
