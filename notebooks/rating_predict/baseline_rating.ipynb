{
 "cells": [
  {
   "cell_type": "code",
   "execution_count": 22,
   "metadata": {},
   "outputs": [],
   "source": [
    "import json\n",
    "import numpy as np\n",
    "import pandas as pd\n",
    "import pyarrow.parquet as pq\n",
    "import matplotlib.pyplot as plt\n",
    "from sklearn.preprocessing import StandardScaler\n",
    "from sklearn.linear_model import  LinearRegression\n",
    "from sklearn.metrics import mean_squared_error as MSE\n",
    "from sklearn.feature_extraction.text import TfidfVectorizer"
   ]
  },
  {
   "cell_type": "code",
   "execution_count": 2,
   "metadata": {},
   "outputs": [],
   "source": [
    "df = pq.read_table(source='D:/mashob/data/finally/lemmatized_texts.parquet').to_pandas()"
   ]
  },
  {
   "cell_type": "code",
   "execution_count": 3,
   "metadata": {},
   "outputs": [
    {
     "data": {
      "text/html": [
       "<div>\n",
       "<style scoped>\n",
       "    .dataframe tbody tr th:only-of-type {\n",
       "        vertical-align: middle;\n",
       "    }\n",
       "\n",
       "    .dataframe tbody tr th {\n",
       "        vertical-align: top;\n",
       "    }\n",
       "\n",
       "    .dataframe thead th {\n",
       "        text-align: right;\n",
       "    }\n",
       "</style>\n",
       "<table border=\"1\" class=\"dataframe\">\n",
       "  <thead>\n",
       "    <tr style=\"text-align: right;\">\n",
       "      <th></th>\n",
       "      <th>id</th>\n",
       "      <th>title</th>\n",
       "      <th>text_markdown</th>\n",
       "      <th>timestamp</th>\n",
       "      <th>author_id</th>\n",
       "      <th>username</th>\n",
       "      <th>rating</th>\n",
       "      <th>pluses</th>\n",
       "      <th>minuses</th>\n",
       "      <th>url</th>\n",
       "      <th>tags</th>\n",
       "    </tr>\n",
       "  </thead>\n",
       "  <tbody>\n",
       "    <tr>\n",
       "      <th>7</th>\n",
       "      <td>2936217</td>\n",
       "      <td>рассада</td>\n",
       "      <td>аня волос нос расти петя аня мочь жопа рассада...</td>\n",
       "      <td>1419527068</td>\n",
       "      <td>453525</td>\n",
       "      <td>Misochkin</td>\n",
       "      <td>-9</td>\n",
       "      <td>5</td>\n",
       "      <td>14</td>\n",
       "      <td>https://pikabu.ru/story/rassada_2936217</td>\n",
       "      <td>[Петр, Анна, Рассада, Волосы, Текст, Переписка...</td>\n",
       "    </tr>\n",
       "    <tr>\n",
       "      <th>11</th>\n",
       "      <td>6991412</td>\n",
       "      <td>начальник обед</td>\n",
       "      <td>недавно родственница жаловаться дурдом работа ...</td>\n",
       "      <td>1571215335</td>\n",
       "      <td>1699826</td>\n",
       "      <td>FluffyMagpie</td>\n",
       "      <td>641</td>\n",
       "      <td>681</td>\n",
       "      <td>40</td>\n",
       "      <td>https://pikabu.ru/story/pro_nachalnikov_i_obed...</td>\n",
       "      <td>[Начальник, Руководитель, Обед, Еда, Сотрудник...</td>\n",
       "    </tr>\n",
       "    <tr>\n",
       "      <th>15</th>\n",
       "      <td>6991359</td>\n",
       "      <td>помогать пожалуйста поиск игра</td>\n",
       "      <td>добрый время сутки господин дама подсказывать ...</td>\n",
       "      <td>1571214218</td>\n",
       "      <td>878346</td>\n",
       "      <td>Keeeesha</td>\n",
       "      <td>-8</td>\n",
       "      <td>2</td>\n",
       "      <td>10</td>\n",
       "      <td>https://pikabu.ru/story/pomogite_pozhaluysta_p...</td>\n",
       "      <td>[Игры, Мобильное приложение, Гонки, Без рейтин...</td>\n",
       "    </tr>\n",
       "  </tbody>\n",
       "</table>\n",
       "</div>"
      ],
      "text/plain": [
       "         id                           title  \\\n",
       "7   2936217                         рассада   \n",
       "11  6991412                  начальник обед   \n",
       "15  6991359  помогать пожалуйста поиск игра   \n",
       "\n",
       "                                        text_markdown   timestamp  author_id  \\\n",
       "7   аня волос нос расти петя аня мочь жопа рассада...  1419527068     453525   \n",
       "11  недавно родственница жаловаться дурдом работа ...  1571215335    1699826   \n",
       "15  добрый время сутки господин дама подсказывать ...  1571214218     878346   \n",
       "\n",
       "        username  rating  pluses  minuses  \\\n",
       "7      Misochkin      -9       5       14   \n",
       "11  FluffyMagpie     641     681       40   \n",
       "15      Keeeesha      -8       2       10   \n",
       "\n",
       "                                                  url  \\\n",
       "7             https://pikabu.ru/story/rassada_2936217   \n",
       "11  https://pikabu.ru/story/pro_nachalnikov_i_obed...   \n",
       "15  https://pikabu.ru/story/pomogite_pozhaluysta_p...   \n",
       "\n",
       "                                                 tags  \n",
       "7   [Петр, Анна, Рассада, Волосы, Текст, Переписка...  \n",
       "11  [Начальник, Руководитель, Обед, Еда, Сотрудник...  \n",
       "15  [Игры, Мобильное приложение, Гонки, Без рейтин...  "
      ]
     },
     "execution_count": 3,
     "metadata": {},
     "output_type": "execute_result"
    }
   ],
   "source": [
    "df.head(3)"
   ]
  },
  {
   "cell_type": "markdown",
   "metadata": {},
   "source": [
    "### Split data on train, val and test by id from file"
   ]
  },
  {
   "cell_type": "code",
   "execution_count": 4,
   "metadata": {},
   "outputs": [],
   "source": [
    "with open('D:/mashob/data/finally/indexes.json', 'r') as idx_file:   \n",
    "    idx_data = json.load(idx_file) "
   ]
  },
  {
   "cell_type": "code",
   "execution_count": 5,
   "metadata": {},
   "outputs": [],
   "source": [
    "train_ids = idx_data['train']\n",
    "val_ids = idx_data['val']\n",
    "test_ids = idx_data['test']"
   ]
  },
  {
   "cell_type": "code",
   "execution_count": 6,
   "metadata": {},
   "outputs": [],
   "source": [
    "train_data = df[df['id'].isin(train_ids)]\n",
    "val_data = df[df['id'].isin(val_ids)]\n",
    "test_data = df[df['id'].isin(test_ids)]"
   ]
  },
  {
   "cell_type": "code",
   "execution_count": 7,
   "metadata": {},
   "outputs": [
    {
     "data": {
      "text/plain": [
       "True"
      ]
     },
     "execution_count": 7,
     "metadata": {},
     "output_type": "execute_result"
    }
   ],
   "source": [
    "len(train_data) + len(val_data) + len(test_data) == len(df)"
   ]
  },
  {
   "cell_type": "code",
   "execution_count": 8,
   "metadata": {},
   "outputs": [],
   "source": [
    "y_train = train_data.rating.values.reshape((-1,1))\n",
    "y_val = val_data.rating.values.reshape((-1,1))\n",
    "y_test = test_data.rating.values.reshape((-1,1))"
   ]
  },
  {
   "cell_type": "markdown",
   "metadata": {},
   "source": [
    "### Create embeddings: tf-idf"
   ]
  },
  {
   "cell_type": "code",
   "execution_count": 9,
   "metadata": {},
   "outputs": [],
   "source": [
    "X_train_text = train_data.text_markdown.values\n",
    "X_val_text = val_data.text_markdown.values\n",
    "X_test_text = test_data.text_markdown.values"
   ]
  },
  {
   "cell_type": "code",
   "execution_count": 10,
   "metadata": {},
   "outputs": [],
   "source": [
    "v = TfidfVectorizer(norm=None, max_df=0.8, max_features=500, decode_error='replace')\n",
    "X_train_vector = v.fit_transform(X_train_text)\n",
    "X_val_vector = v.transform(X_val_text)\n",
    "X_test_vector = v.transform(X_test_text)"
   ]
  },
  {
   "cell_type": "markdown",
   "metadata": {},
   "source": [
    "### Standardization of a target"
   ]
  },
  {
   "cell_type": "code",
   "execution_count": 11,
   "metadata": {},
   "outputs": [],
   "source": [
    "scaler = StandardScaler()\n",
    "y_train_scale = scaler.fit_transform(y_train)\n",
    "y_val_scale = scaler.transform(y_val)\n",
    "y_test_scale = scaler.transform(y_test)"
   ]
  },
  {
   "cell_type": "code",
   "execution_count": 49,
   "metadata": {},
   "outputs": [
    {
     "data": {
      "text/plain": [
       "<matplotlib.legend.Legend at 0x257d08f9ff0>"
      ]
     },
     "execution_count": 49,
     "metadata": {},
     "output_type": "execute_result"
    },
    {
     "data": {
      "image/png": "[encoded data removed]",
      "text/plain": [
       "<Figure size 640x480 with 1 Axes>"
      ]
     },
     "metadata": {},
     "output_type": "display_data"
    }
   ],
   "source": [
    "plt.hist(y_train_scale, color='yellow', alpha=0.5, label='y_train', bins=10)\n",
    "plt.hist(y_val_scale, color='blue', alpha=0.8, label='y_val', bins=10)\n",
    "plt.hist(y_test_scale, color='red', alpha=0.3, label='y_test', bins=10)\n",
    "plt.xlabel('Rating')\n",
    "plt.ylabel('Number of posts')\n",
    "plt.legend()"
   ]
  },
  {
   "cell_type": "markdown",
   "metadata": {},
   "source": [
    "### Model Linear Regression"
   ]
  },
  {
   "cell_type": "code",
   "execution_count": 12,
   "metadata": {},
   "outputs": [],
   "source": [
    "regr_model = LinearRegression().fit(X_train_vector, y_train_scale)"
   ]
  },
  {
   "cell_type": "code",
   "execution_count": 14,
   "metadata": {},
   "outputs": [
    {
     "data": {
      "text/plain": [
       "0.016608689725936654"
      ]
     },
     "execution_count": 14,
     "metadata": {},
     "output_type": "execute_result"
    }
   ],
   "source": [
    "regr_model.score(X_val_vector, y_val_scale)"
   ]
  },
  {
   "cell_type": "code",
   "execution_count": 19,
   "metadata": {},
   "outputs": [],
   "source": [
    "r2 = regr_model.score(X_test_vector, y_test_scale)\n",
    "y_pred = regr_model.predict(X_test_vector)\n",
    "rmse = MSE(y_test_scale, y_pred)**0.5"
   ]
  },
  {
   "cell_type": "code",
   "execution_count": 21,
   "metadata": {},
   "outputs": [
    {
     "name": "stdout",
     "output_type": "stream",
     "text": [
      "                      RMSE       R^2\n",
      "LinearRegression  1.090341  0.013332\n"
     ]
    }
   ],
   "source": [
    "index = ['LinearRegression']\n",
    "data_table = {'RMSE': [rmse],\n",
    "              'R^2': [r2]}\n",
    "\n",
    "df_metrics = pd.DataFrame(data_table, index=index)\n",
    "print(df_metrics)"
   ]
  }
 ],
 "metadata": {
  "kernelspec": {
   "display_name": "env-mashu",
   "language": "python",
   "name": "python3"
  },
  "language_info": {
   "codemirror_mode": {
    "name": "ipython",
    "version": 3
   },
   "file_extension": ".py",
   "mimetype": "text/x-python",
   "name": "python",
   "nbconvert_exporter": "python",
   "pygments_lexer": "ipython3",
   "version": "3.10.13"
  }
 },
 "nbformat": 4,
 "nbformat_minor": 2
}
