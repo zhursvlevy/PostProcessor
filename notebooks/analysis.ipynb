{
 "cells": [
  {
   "cell_type": "code",
   "execution_count": 102,
   "metadata": {},
   "outputs": [],
   "source": [
    "import pyarrow.parquet as pq\n",
    "import pandas as pd\n",
    "import seaborn as sns\n",
    "import matplotlib.pyplot as plt\n",
    "import numpy as np\n",
    "from sklearn.feature_extraction.text import TfidfVectorizer"
   ]
  },
  {
   "cell_type": "code",
   "execution_count": 157,
   "metadata": {},
   "outputs": [],
   "source": [
    "df = pq.read_table(source='D:/mashob/0_processed.parquet').to_pandas()"
   ]
  },
  {
   "cell_type": "code",
   "execution_count": 158,
   "metadata": {},
   "outputs": [
    {
     "data": {
      "text/html": [
       "<div>\n",
       "<style scoped>\n",
       "    .dataframe tbody tr th:only-of-type {\n",
       "        vertical-align: middle;\n",
       "    }\n",
       "\n",
       "    .dataframe tbody tr th {\n",
       "        vertical-align: top;\n",
       "    }\n",
       "\n",
       "    .dataframe thead th {\n",
       "        text-align: right;\n",
       "    }\n",
       "</style>\n",
       "<table border=\"1\" class=\"dataframe\">\n",
       "  <thead>\n",
       "    <tr style=\"text-align: right;\">\n",
       "      <th></th>\n",
       "      <th>title</th>\n",
       "      <th>text_markdown</th>\n",
       "      <th>pluses</th>\n",
       "      <th>minuses</th>\n",
       "      <th>id</th>\n",
       "      <th>author_id</th>\n",
       "      <th>username</th>\n",
       "      <th>url</th>\n",
       "      <th>tags</th>\n",
       "    </tr>\n",
       "  </thead>\n",
       "  <tbody>\n",
       "    <tr>\n",
       "      <th>7</th>\n",
       "      <td>рассада</td>\n",
       "      <td>аня волос нос расти петя аня жопа рассада петя...</td>\n",
       "      <td>5</td>\n",
       "      <td>14</td>\n",
       "      <td>2936217</td>\n",
       "      <td>453525</td>\n",
       "      <td>Misochkin</td>\n",
       "      <td>https://pikabu.ru/story/rassada_2936217</td>\n",
       "      <td>Петр;Анна;Рассада;Волосы;Текст;Переписка;Знако...</td>\n",
       "    </tr>\n",
       "    <tr>\n",
       "      <th>11</th>\n",
       "      <td>начальник обед</td>\n",
       "      <td>родственница жаловаться дурдом работа трудитьс...</td>\n",
       "      <td>681</td>\n",
       "      <td>40</td>\n",
       "      <td>6991412</td>\n",
       "      <td>1699826</td>\n",
       "      <td>FluffyMagpie</td>\n",
       "      <td>https://pikabu.ru/story/pro_nachalnikov_i_obed...</td>\n",
       "      <td>Начальник;Руководитель;Обед;Еда;Сотрудники;Текст</td>\n",
       "    </tr>\n",
       "    <tr>\n",
       "      <th>15</th>\n",
       "      <td>помогать поиск игра</td>\n",
       "      <td>добрый сутки господин дама подсказывать назван...</td>\n",
       "      <td>2</td>\n",
       "      <td>10</td>\n",
       "      <td>6991359</td>\n",
       "      <td>878346</td>\n",
       "      <td>Keeeesha</td>\n",
       "      <td>https://pikabu.ru/story/pomogite_pozhaluysta_p...</td>\n",
       "      <td>Игры;Мобильное приложение;Гонки;Без рейтинга;П...</td>\n",
       "    </tr>\n",
       "  </tbody>\n",
       "</table>\n",
       "</div>"
      ],
      "text/plain": [
       "                  title                                      text_markdown  \\\n",
       "7               рассада  аня волос нос расти петя аня жопа рассада петя...   \n",
       "11       начальник обед  родственница жаловаться дурдом работа трудитьс...   \n",
       "15  помогать поиск игра  добрый сутки господин дама подсказывать назван...   \n",
       "\n",
       "    pluses  minuses       id  author_id      username  \\\n",
       "7        5       14  2936217     453525     Misochkin   \n",
       "11     681       40  6991412    1699826  FluffyMagpie   \n",
       "15       2       10  6991359     878346      Keeeesha   \n",
       "\n",
       "                                                  url  \\\n",
       "7             https://pikabu.ru/story/rassada_2936217   \n",
       "11  https://pikabu.ru/story/pro_nachalnikov_i_obed...   \n",
       "15  https://pikabu.ru/story/pomogite_pozhaluysta_p...   \n",
       "\n",
       "                                                 tags  \n",
       "7   Петр;Анна;Рассада;Волосы;Текст;Переписка;Знако...  \n",
       "11   Начальник;Руководитель;Обед;Еда;Сотрудники;Текст  \n",
       "15  Игры;Мобильное приложение;Гонки;Без рейтинга;П...  "
      ]
     },
     "execution_count": 158,
     "metadata": {},
     "output_type": "execute_result"
    }
   ],
   "source": [
    "df.head(3)"
   ]
  },
  {
   "cell_type": "code",
   "execution_count": 159,
   "metadata": {},
   "outputs": [
    {
     "data": {
      "text/plain": [
       "5121"
      ]
     },
     "execution_count": 159,
     "metadata": {},
     "output_type": "execute_result"
    }
   ],
   "source": [
    "len(df)"
   ]
  },
  {
   "cell_type": "markdown",
   "metadata": {},
   "source": [
    "# Filtered data"
   ]
  },
  {
   "cell_type": "markdown",
   "metadata": {},
   "source": [
    "Find index of those rows in which the pluses or minuses are not the real value"
   ]
  },
  {
   "cell_type": "code",
   "execution_count": 166,
   "metadata": {},
   "outputs": [],
   "source": [
    "filtered_df = df[~(((df['minuses'] == 0) & (df['pluses'] == 0)) | (df['minuses'] < 0) | (df['pluses'] < 0))].copy()"
   ]
  },
  {
   "cell_type": "code",
   "execution_count": 167,
   "metadata": {},
   "outputs": [
    {
     "data": {
      "text/plain": [
       "4448"
      ]
     },
     "execution_count": 167,
     "metadata": {},
     "output_type": "execute_result"
    }
   ],
   "source": [
    "len(filtered_df)"
   ]
  },
  {
   "cell_type": "code",
   "execution_count": 168,
   "metadata": {},
   "outputs": [],
   "source": [
    "def wilson_score(pluses: int, minuses: int, eps: float = 1e-7) -> float:\n",
    "    n = pluses + minuses\n",
    "    if n == 0:\n",
    "        return 0\n",
    "    p = pluses / (n + eps)\n",
    "    return _wilson_score(p, n)\n",
    "\n",
    "def _wilson_score(p: int, n: int) -> float:\n",
    "    q = 1.96\n",
    "    return (p + q**2 / (2*n) - q*np.sqrt((p*(1 - p) + q**2/(4*n)) / n)) / (1 + q**2/n)"
   ]
  },
  {
   "cell_type": "code",
   "execution_count": 169,
   "metadata": {},
   "outputs": [
    {
     "name": "stderr",
     "output_type": "stream",
     "text": [
      "C:\\Users\\mashu\\AppData\\Local\\Temp\\ipykernel_11056\\3075728088.py:10: RuntimeWarning: invalid value encountered in sqrt\n",
      "  return (p + q**2 / (2*n) - q*np.sqrt((p*(1 - p) + q**2/(4*n)) / n)) / (1 + q**2/n)\n"
     ]
    }
   ],
   "source": [
    "filtered_df['rating'] = df.apply(lambda row: wilson_score(row['pluses'], row['minuses']), axis=1)"
   ]
  },
  {
   "cell_type": "code",
   "execution_count": 170,
   "metadata": {},
   "outputs": [
    {
     "data": {
      "text/plain": [
       "4448"
      ]
     },
     "execution_count": 170,
     "metadata": {},
     "output_type": "execute_result"
    }
   ],
   "source": [
    "pd.isnull(filtered_df.rating).count()"
   ]
  },
  {
   "cell_type": "code",
   "execution_count": 178,
   "metadata": {},
   "outputs": [],
   "source": [
    "def create_label(df, left_border=0, right_border=1):\n",
    "    intervals = np.linspace(left_border, right_border, endpoint=True, num=4)\n",
    "    intervals[0] = -np.inf\n",
    "    intervals[-1] = np.inf\n",
    "    df[\"label\"] = pd.cut(df.rating, intervals, labels=False, include_lowest=True)"
   ]
  },
  {
   "cell_type": "code",
   "execution_count": 179,
   "metadata": {},
   "outputs": [],
   "source": [
    "create_label(filtered_df)"
   ]
  },
  {
   "cell_type": "code",
   "execution_count": 180,
   "metadata": {},
   "outputs": [
    {
     "data": {
      "text/plain": [
       "label\n",
       "0    2057\n",
       "1    1392\n",
       "2     999\n",
       "Name: count, dtype: int64"
      ]
     },
     "execution_count": 180,
     "metadata": {},
     "output_type": "execute_result"
    }
   ],
   "source": [
    "filtered_df.label.value_counts()"
   ]
  },
  {
   "cell_type": "code",
   "execution_count": 182,
   "metadata": {},
   "outputs": [
    {
     "data": {
      "image/png": "[encoded data removed]",
      "text/plain": [
       "<Figure size 1500x600 with 1 Axes>"
      ]
     },
     "metadata": {},
     "output_type": "display_data"
    }
   ],
   "source": [
    "fig, axes = plt.subplots(1, 1, figsize=(15, 6))\n",
    "\n",
    "sns.histplot(x=\"label\", data=filtered_df, linewidth=1.25,\n",
    "             alpha=1, ax=axes, zorder=2)\n",
    "axes.set_title(\"rate\")\n",
    "axes.set(xlabel=None, ylabel=None)\n",
    "\n",
    "plt.tight_layout()\n",
    "plt.show()"
   ]
  },
  {
   "cell_type": "code",
   "execution_count": 183,
   "metadata": {},
   "outputs": [
    {
     "data": {
      "text/plain": [
       "Text(0, 0.5, 'Number of posts')"
      ]
     },
     "execution_count": 183,
     "metadata": {},
     "output_type": "execute_result"
    },
    {
     "data": {
      "image/png": "[encoded data removed]",
      "text/plain": [
       "<Figure size 640x480 with 1 Axes>"
      ]
     },
     "metadata": {},
     "output_type": "display_data"
    }
   ],
   "source": [
    "plt.hist(filtered_df.rating)\n",
    "plt.xlabel('Rating')\n",
    "plt.ylabel('Number of posts')"
   ]
  },
  {
   "cell_type": "markdown",
   "metadata": {},
   "source": [
    "# Tf-idf. LogRess"
   ]
  },
  {
   "cell_type": "code",
   "execution_count": 184,
   "metadata": {},
   "outputs": [],
   "source": [
    "from sklearn.linear_model import LogisticRegression"
   ]
  },
  {
   "cell_type": "code",
   "execution_count": 188,
   "metadata": {},
   "outputs": [],
   "source": [
    "from sklearn.model_selection import train_test_split\n",
    " \n",
    "X_train, X_test, y_train, y_test = train_test_split(filtered_df.text_markdown, filtered_df.label, test_size=0.2, random_state=42)\n"
   ]
  },
  {
   "cell_type": "code",
   "execution_count": 189,
   "metadata": {},
   "outputs": [],
   "source": [
    "X_train_text = X_train.values\n",
    "X_test_text = X_test.values\n",
    "y_train = y_train.values\n",
    "y_test = y_test.values"
   ]
  },
  {
   "cell_type": "code",
   "execution_count": 190,
   "metadata": {},
   "outputs": [],
   "source": [
    "v = TfidfVectorizer(norm=None, max_df=0.8, max_features=500, decode_error='replace')\n",
    "X_train_vector = v.fit_transform(X_train_text)\n",
    "X_test_vector = v.transform(X_test_text)"
   ]
  },
  {
   "cell_type": "code",
   "execution_count": 191,
   "metadata": {},
   "outputs": [],
   "source": [
    "clf = LogisticRegression( random_state=64, solver='lbfgs', max_iter=10000, n_jobs=-1) # Обучаем классификатор\n",
    "clf.fit(X_train_vector, y_train)\n",
    "y_pred = clf.predict(X_test_vector)"
   ]
  },
  {
   "cell_type": "code",
   "execution_count": 192,
   "metadata": {},
   "outputs": [],
   "source": [
    "from sklearn.metrics import classification_report, confusion_matrix, accuracy_score"
   ]
  },
  {
   "cell_type": "code",
   "execution_count": 193,
   "metadata": {},
   "outputs": [
    {
     "name": "stdout",
     "output_type": "stream",
     "text": [
      "0.5224719101123596\n",
      "              precision    recall  f1-score   support\n",
      "\n",
      "           0       0.59      0.75      0.66       405\n",
      "           1       0.40      0.30      0.34       278\n",
      "           2       0.48      0.38      0.42       207\n",
      "\n",
      "    accuracy                           0.52       890\n",
      "   macro avg       0.49      0.48      0.47       890\n",
      "weighted avg       0.50      0.52      0.50       890\n",
      "\n"
     ]
    }
   ],
   "source": [
    "print(accuracy_score(y_test, y_pred))\n",
    "print(classification_report(y_test,y_pred))"
   ]
  },
  {
   "cell_type": "code",
   "execution_count": 194,
   "metadata": {},
   "outputs": [
    {
     "data": {
      "image/png": "[encoded data removed]",
      "text/plain": [
       "<Figure size 640x480 with 2 Axes>"
      ]
     },
     "metadata": {},
     "output_type": "display_data"
    }
   ],
   "source": [
    "T3_lables = ['2','1','0']    \n",
    "\n",
    "ax= plt.subplot()\n",
    "\n",
    "cmm = confusion_matrix(y_test,y_pred)\n",
    "sns.heatmap(cmm, annot=True, fmt='g', ax=ax);\n",
    "\n",
    "ax.set_xlabel('Predicted labels');ax.set_ylabel('True labels'); \n",
    "ax.set_title('Confusion Matrix'); \n",
    "ax.xaxis.set_ticklabels(T3_lables); ax.yaxis.set_ticklabels(T3_lables);"
   ]
  }
 ],
 "metadata": {
  "kernelspec": {
   "display_name": "env-mashu",
   "language": "python",
   "name": "python3"
  },
  "language_info": {
   "codemirror_mode": {
    "name": "ipython",
    "version": 3
   },
   "file_extension": ".py",
   "mimetype": "text/x-python",
   "name": "python",
   "nbconvert_exporter": "python",
   "pygments_lexer": "ipython3",
   "version": "3.10.13"
  }
 },
 "nbformat": 4,
 "nbformat_minor": 2
}
