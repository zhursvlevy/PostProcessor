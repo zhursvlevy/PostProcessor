{
 "cells": [
  {
   "cell_type": "code",
   "execution_count": 18,
   "metadata": {},
   "outputs": [],
   "source": [
    "import pyarrow.parquet as pq\n",
    "import pandas as pd\n",
    "import seaborn as sns\n",
    "import matplotlib.pyplot as plt\n",
    "import numpy as np\n",
    "from sklearn.feature_extraction.text import TfidfVectorizer"
   ]
  },
  {
   "cell_type": "code",
   "execution_count": 64,
   "metadata": {},
   "outputs": [],
   "source": [
    "df = pq.read_table(source='D:/mashob/0_processed.parquet').to_pandas()"
   ]
  },
  {
   "cell_type": "code",
   "execution_count": 65,
   "metadata": {},
   "outputs": [
    {
     "data": {
      "text/html": [
       "<div>\n",
       "<style scoped>\n",
       "    .dataframe tbody tr th:only-of-type {\n",
       "        vertical-align: middle;\n",
       "    }\n",
       "\n",
       "    .dataframe tbody tr th {\n",
       "        vertical-align: top;\n",
       "    }\n",
       "\n",
       "    .dataframe thead th {\n",
       "        text-align: right;\n",
       "    }\n",
       "</style>\n",
       "<table border=\"1\" class=\"dataframe\">\n",
       "  <thead>\n",
       "    <tr style=\"text-align: right;\">\n",
       "      <th></th>\n",
       "      <th>title</th>\n",
       "      <th>text_markdown</th>\n",
       "      <th>pluses</th>\n",
       "      <th>minuses</th>\n",
       "      <th>id</th>\n",
       "      <th>tags</th>\n",
       "    </tr>\n",
       "  </thead>\n",
       "  <tbody>\n",
       "    <tr>\n",
       "      <th>0</th>\n",
       "      <td>купить китай цена новое iphone pro</td>\n",
       "      <td>осень россия стартовать продажа очередной моде...</td>\n",
       "      <td>9</td>\n",
       "      <td>13</td>\n",
       "      <td>6991642</td>\n",
       "      <td>Китай;AliExpress;Китайские товары;Бизнес;Длинн...</td>\n",
       "    </tr>\n",
       "    <tr>\n",
       "      <th>1</th>\n",
       "      <td>последний оставаться живой освободитель освенц...</td>\n",
       "      <td>канун освобождение концлагерь v всемирный фору...</td>\n",
       "      <td>1498</td>\n",
       "      <td>159</td>\n",
       "      <td>7178566</td>\n",
       "      <td>Великая Отечественная война;Чтобы помнили;Осве...</td>\n",
       "    </tr>\n",
       "    <tr>\n",
       "      <th>2</th>\n",
       "      <td>зима тюмень приходить</td>\n",
       "      <td>честь сочинять свой первый пирожок приходить з...</td>\n",
       "      <td>517</td>\n",
       "      <td>64</td>\n",
       "      <td>7021067</td>\n",
       "      <td>Стишки-Пирожки;Снег;Тюмень;Мат</td>\n",
       "    </tr>\n",
       "  </tbody>\n",
       "</table>\n",
       "</div>"
      ],
      "text/plain": [
       "                                               title  \\\n",
       "0                 купить китай цена новое iphone pro   \n",
       "1  последний оставаться живой освободитель освенц...   \n",
       "2                              зима тюмень приходить   \n",
       "\n",
       "                                       text_markdown  pluses  minuses  \\\n",
       "0  осень россия стартовать продажа очередной моде...       9       13   \n",
       "1  канун освобождение концлагерь v всемирный фору...    1498      159   \n",
       "2  честь сочинять свой первый пирожок приходить з...     517       64   \n",
       "\n",
       "        id                                               tags  \n",
       "0  6991642  Китай;AliExpress;Китайские товары;Бизнес;Длинн...  \n",
       "1  7178566  Великая Отечественная война;Чтобы помнили;Осве...  \n",
       "2  7021067                     Стишки-Пирожки;Снег;Тюмень;Мат  "
      ]
     },
     "execution_count": 65,
     "metadata": {},
     "output_type": "execute_result"
    }
   ],
   "source": [
    "df.head(3)"
   ]
  },
  {
   "cell_type": "markdown",
   "metadata": {},
   "source": [
    "# Create column rating"
   ]
  },
  {
   "cell_type": "code",
   "execution_count": 66,
   "metadata": {},
   "outputs": [
    {
     "data": {
      "text/html": [
       "<div>\n",
       "<style scoped>\n",
       "    .dataframe tbody tr th:only-of-type {\n",
       "        vertical-align: middle;\n",
       "    }\n",
       "\n",
       "    .dataframe tbody tr th {\n",
       "        vertical-align: top;\n",
       "    }\n",
       "\n",
       "    .dataframe thead th {\n",
       "        text-align: right;\n",
       "    }\n",
       "</style>\n",
       "<table border=\"1\" class=\"dataframe\">\n",
       "  <thead>\n",
       "    <tr style=\"text-align: right;\">\n",
       "      <th></th>\n",
       "      <th>title</th>\n",
       "      <th>text_markdown</th>\n",
       "      <th>id</th>\n",
       "      <th>tags</th>\n",
       "      <th>rating</th>\n",
       "    </tr>\n",
       "  </thead>\n",
       "  <tbody>\n",
       "    <tr>\n",
       "      <th>0</th>\n",
       "      <td>купить китай цена новое iphone pro</td>\n",
       "      <td>осень россия стартовать продажа очередной моде...</td>\n",
       "      <td>6991642</td>\n",
       "      <td>Китай;AliExpress;Китайские товары;Бизнес;Длинн...</td>\n",
       "      <td>-4</td>\n",
       "    </tr>\n",
       "    <tr>\n",
       "      <th>1</th>\n",
       "      <td>последний оставаться живой освободитель освенц...</td>\n",
       "      <td>канун освобождение концлагерь v всемирный фору...</td>\n",
       "      <td>7178566</td>\n",
       "      <td>Великая Отечественная война;Чтобы помнили;Осве...</td>\n",
       "      <td>1339</td>\n",
       "    </tr>\n",
       "    <tr>\n",
       "      <th>2</th>\n",
       "      <td>зима тюмень приходить</td>\n",
       "      <td>честь сочинять свой первый пирожок приходить з...</td>\n",
       "      <td>7021067</td>\n",
       "      <td>Стишки-Пирожки;Снег;Тюмень;Мат</td>\n",
       "      <td>453</td>\n",
       "    </tr>\n",
       "  </tbody>\n",
       "</table>\n",
       "</div>"
      ],
      "text/plain": [
       "                                               title  \\\n",
       "0                 купить китай цена новое iphone pro   \n",
       "1  последний оставаться живой освободитель освенц...   \n",
       "2                              зима тюмень приходить   \n",
       "\n",
       "                                       text_markdown       id  \\\n",
       "0  осень россия стартовать продажа очередной моде...  6991642   \n",
       "1  канун освобождение концлагерь v всемирный фору...  7178566   \n",
       "2  честь сочинять свой первый пирожок приходить з...  7021067   \n",
       "\n",
       "                                                tags  rating  \n",
       "0  Китай;AliExpress;Китайские товары;Бизнес;Длинн...      -4  \n",
       "1  Великая Отечественная война;Чтобы помнили;Осве...    1339  \n",
       "2                     Стишки-Пирожки;Снег;Тюмень;Мат     453  "
      ]
     },
     "execution_count": 66,
     "metadata": {},
     "output_type": "execute_result"
    }
   ],
   "source": [
    "df['rating'] = df['pluses'] - df['minuses']\n",
    "df_rate = df.drop(columns=['pluses','minuses'])\n",
    "df_rate.head(3)"
   ]
  },
  {
   "cell_type": "code",
   "execution_count": 67,
   "metadata": {},
   "outputs": [
    {
     "data": {
      "text/plain": [
       "Text(0, 0.5, 'Number of posts')"
      ]
     },
     "execution_count": 67,
     "metadata": {},
     "output_type": "execute_result"
    },
    {
     "data": {
      "image/png": "[encoded data removed]",
      "text/plain": [
       "<Figure size 640x480 with 1 Axes>"
      ]
     },
     "metadata": {},
     "output_type": "display_data"
    }
   ],
   "source": [
    "plt.hist(df_rate['rating'], bins=5)\n",
    "plt.xlabel('Rating')\n",
    "plt.ylabel('Number of posts')"
   ]
  },
  {
   "cell_type": "code",
   "execution_count": 103,
   "metadata": {},
   "outputs": [
    {
     "name": "stdout",
     "output_type": "stream",
     "text": [
      "Min rate: -2882\n",
      "Max rate: 42896\n"
     ]
    }
   ],
   "source": [
    "min_rate = df_rate.rating.min()\n",
    "max_rate = df_rate.rating.max()\n",
    "print('Min rate:', min_rate)\n",
    "print('Max rate:', max_rate)"
   ]
  },
  {
   "cell_type": "code",
   "execution_count": 172,
   "metadata": {},
   "outputs": [],
   "source": [
    "def create_label(left_border, right_border):\n",
    "    intervals = np.linspace(left_border, right_border, endpoint=True, num=6)\n",
    "    intervals[0] = -np.inf\n",
    "    intervals[-1] = np.inf\n",
    "    df_rate[\"label\"] = pd.cut(df_rate.rating, intervals, labels=False, include_lowest=True)\n",
    "    return intervals"
   ]
  },
  {
   "cell_type": "code",
   "execution_count": 270,
   "metadata": {},
   "outputs": [],
   "source": [
    "intervals = create_label(df_rate[\"rating\"].min(), df_rate[\"rating\"].max())"
   ]
  },
  {
   "cell_type": "markdown",
   "metadata": {},
   "source": [
    "смотрим на распределение"
   ]
  },
  {
   "cell_type": "code",
   "execution_count": 271,
   "metadata": {},
   "outputs": [
    {
     "data": {
      "text/plain": [
       "label\n",
       "0    22842\n",
       "1      152\n",
       "2        5\n",
       "4        1\n",
       "Name: count, dtype: int64"
      ]
     },
     "execution_count": 271,
     "metadata": {},
     "output_type": "execute_result"
    }
   ],
   "source": [
    "df_rate.label.value_counts()"
   ]
  },
  {
   "cell_type": "markdown",
   "metadata": {},
   "source": [
    "Поскольку количество элементов, попавших в интервалы 1-4, намного меньше, правую границу можно сдвинуть в пределы нулевого интервала"
   ]
  },
  {
   "cell_type": "code",
   "execution_count": 272,
   "metadata": {},
   "outputs": [],
   "source": [
    "intervals_double = create_label(df_rate[\"rating\"].min(), intervals[1])"
   ]
  },
  {
   "cell_type": "code",
   "execution_count": 286,
   "metadata": {},
   "outputs": [
    {
     "data": {
      "text/plain": [
       "label\n",
       "1    21221\n",
       "2      785\n",
       "4      585\n",
       "3      394\n",
       "0       15\n",
       "Name: count, dtype: int64"
      ]
     },
     "execution_count": 286,
     "metadata": {},
     "output_type": "execute_result"
    }
   ],
   "source": [
    "df_rate.label.value_counts()"
   ]
  },
  {
   "cell_type": "markdown",
   "metadata": {},
   "source": [
    "сдвигаем левую границу"
   ]
  },
  {
   "cell_type": "code",
   "execution_count": 288,
   "metadata": {},
   "outputs": [],
   "source": [
    "intervals_third = create_label(intervals_double[1], intervals[1])"
   ]
  },
  {
   "cell_type": "code",
   "execution_count": 284,
   "metadata": {},
   "outputs": [
    {
     "data": {
      "text/plain": [
       "(-1050.8799999999999, 6273.6)"
      ]
     },
     "execution_count": 284,
     "metadata": {},
     "output_type": "execute_result"
    }
   ],
   "source": [
    "intervals_double[1], intervals[1]"
   ]
  },
  {
   "cell_type": "code",
   "execution_count": 280,
   "metadata": {},
   "outputs": [
    {
     "data": {
      "text/plain": [
       "label\n",
       "0    20616\n",
       "1     1571\n",
       "2      433\n",
       "4      236\n",
       "3      144\n",
       "Name: count, dtype: int64"
      ]
     },
     "execution_count": 280,
     "metadata": {},
     "output_type": "execute_result"
    }
   ],
   "source": [
    "df_rate.label.value_counts()"
   ]
  },
  {
   "cell_type": "code",
   "execution_count": 281,
   "metadata": {},
   "outputs": [
    {
     "data": {
      "text/plain": [
       "True"
      ]
     },
     "execution_count": 281,
     "metadata": {},
     "output_type": "execute_result"
    }
   ],
   "source": [
    "df_rate.label.count() == n_post"
   ]
  },
  {
   "cell_type": "markdown",
   "metadata": {},
   "source": [
    "Получили следующие интервалы меток относительно рейтинга"
   ]
  },
  {
   "cell_type": "code",
   "execution_count": 282,
   "metadata": {},
   "outputs": [
    {
     "name": "stdout",
     "output_type": "stream",
     "text": [
      "0-st label: from -inf to 414.0\n",
      "1-st label: from 414.0 to 1879.0\n",
      "2-st label: from 1879.0 to 3344.0\n",
      "3-st label: from 3344.0 to 4809.0\n",
      "4-st label: from 4809.0 to inf\n"
     ]
    }
   ],
   "source": [
    "for i in range(intervals_third.shape[0]-1):\n",
    "    print(f'{i}-st label:', 'from', np.round(intervals_third[i]), 'to', np.round(intervals_third[i+1]))"
   ]
  },
  {
   "cell_type": "code",
   "execution_count": 289,
   "metadata": {},
   "outputs": [
    {
     "data": {
      "image/png": "[encoded data removed]",
      "text/plain": [
       "<Figure size 640x480 with 1 Axes>"
      ]
     },
     "metadata": {},
     "output_type": "display_data"
    }
   ],
   "source": [
    "h = df_rate['label'].hist()\n",
    "fig = h.get_figure()"
   ]
  },
  {
   "cell_type": "code",
   "execution_count": 249,
   "metadata": {},
   "outputs": [
    {
     "data": {
      "image/png": "[encoded data removed]",
      "text/plain": [
       "<Figure size 1500x600 with 1 Axes>"
      ]
     },
     "metadata": {},
     "output_type": "display_data"
    }
   ],
   "source": [
    "fig, axes = plt.subplots(1, 1, figsize=(15, 6))\n",
    "\n",
    "sns.histplot(x=\"label\", data=df_rate, linewidth=1.25,\n",
    "             alpha=1, ax=axes, zorder=2)\n",
    "axes.set_title(\"rate\")\n",
    "axes.set(xlabel=None, ylabel=None)\n",
    "\n",
    "plt.tight_layout()\n",
    "plt.show()"
   ]
  },
  {
   "cell_type": "code",
   "execution_count": 291,
   "metadata": {},
   "outputs": [],
   "source": [
    "corpus = [str(df_rate['text_markdown'].to_list())]"
   ]
  },
  {
   "cell_type": "code",
   "execution_count": 292,
   "metadata": {},
   "outputs": [
    {
     "data": {
      "text/plain": [
       "array(['aaa', 'aac', 'aalto', ..., 'ящук', 'ящур', 'яя'], dtype=object)"
      ]
     },
     "execution_count": 292,
     "metadata": {},
     "output_type": "execute_result"
    }
   ],
   "source": [
    "vectorizer = TfidfVectorizer()\n",
    "X = vectorizer.fit_transform(corpus)\n",
    "vectorizer.get_feature_names_out()"
   ]
  },
  {
   "cell_type": "markdown",
   "metadata": {},
   "source": [
    "# Tf-idf. LogRess"
   ]
  },
  {
   "cell_type": "code",
   "execution_count": 304,
   "metadata": {},
   "outputs": [],
   "source": [
    "from sklearn.linear_model import LogisticRegression"
   ]
  },
  {
   "cell_type": "code",
   "execution_count": 295,
   "metadata": {},
   "outputs": [],
   "source": [
    "from sklearn.model_selection import train_test_split\n",
    " \n",
    "X_train, X_test, y_train, y_test = train_test_split(df_rate.text_markdown, df_rate.label, test_size=0.2, random_state=42)\n"
   ]
  },
  {
   "cell_type": "code",
   "execution_count": 296,
   "metadata": {},
   "outputs": [],
   "source": [
    "X_train_text = X_train.values\n",
    "X_test_text = X_test.values\n",
    "y_train = y_train.values\n",
    "y_test = y_test.values"
   ]
  },
  {
   "cell_type": "code",
   "execution_count": 297,
   "metadata": {},
   "outputs": [],
   "source": [
    "v = TfidfVectorizer(norm=None, max_df=0.8, max_features=500, decode_error='replace')\n",
    "X_train_vector = v.fit_transform(X_train_text)\n",
    "X_test_vector = v.transform(X_test_text)"
   ]
  },
  {
   "cell_type": "code",
   "execution_count": 298,
   "metadata": {},
   "outputs": [],
   "source": [
    "clf = LogisticRegression( random_state=64, solver='lbfgs', max_iter=10000, n_jobs=-1) # Обучаем классификатор\n",
    "clf.fit(X_train_vector, y_train)\n",
    "y_pred = clf.predict(X_test_vector)"
   ]
  },
  {
   "cell_type": "code",
   "execution_count": 300,
   "metadata": {},
   "outputs": [],
   "source": [
    "from sklearn.metrics import classification_report, confusion_matrix, accuracy_score"
   ]
  },
  {
   "cell_type": "code",
   "execution_count": 301,
   "metadata": {},
   "outputs": [
    {
     "name": "stdout",
     "output_type": "stream",
     "text": [
      "0.8736956521739131\n",
      "              precision    recall  f1-score   support\n",
      "\n",
      "           0       0.89      0.98      0.93      4100\n",
      "           1       0.20      0.02      0.04       327\n",
      "           2       0.00      0.00      0.00        96\n",
      "           3       0.00      0.00      0.00        31\n",
      "           4       0.00      0.00      0.00        46\n",
      "\n",
      "    accuracy                           0.87      4600\n",
      "   macro avg       0.22      0.20      0.19      4600\n",
      "weighted avg       0.81      0.87      0.84      4600\n",
      "\n"
     ]
    }
   ],
   "source": [
    "print(accuracy_score(y_test, y_pred))\n",
    "print(classification_report(y_test,y_pred))"
   ]
  },
  {
   "cell_type": "code",
   "execution_count": 303,
   "metadata": {},
   "outputs": [
    {
     "data": {
      "image/png": "[encoded data removed]",
      "text/plain": [
       "<Figure size 640x480 with 2 Axes>"
      ]
     },
     "metadata": {},
     "output_type": "display_data"
    }
   ],
   "source": [
    "T5_lables = ['4','3','2','1','0']    \n",
    "\n",
    "ax= plt.subplot()\n",
    "\n",
    "cmm = confusion_matrix(y_test,y_pred)\n",
    "sns.heatmap(cmm, annot=True, fmt='g', ax=ax);\n",
    "\n",
    "ax.set_xlabel('Predicted labels');ax.set_ylabel('True labels'); \n",
    "ax.set_title('Confusion Matrix'); \n",
    "ax.xaxis.set_ticklabels(T5_lables); ax.yaxis.set_ticklabels(T5_lables);"
   ]
  }
 ],
 "metadata": {
  "kernelspec": {
   "display_name": "env-mashu",
   "language": "python",
   "name": "python3"
  },
  "language_info": {
   "codemirror_mode": {
    "name": "ipython",
    "version": 3
   },
   "file_extension": ".py",
   "mimetype": "text/x-python",
   "name": "python",
   "nbconvert_exporter": "python",
   "pygments_lexer": "ipython3",
   "version": "3.10.13"
  }
 },
 "nbformat": 4,
 "nbformat_minor": 2
}
